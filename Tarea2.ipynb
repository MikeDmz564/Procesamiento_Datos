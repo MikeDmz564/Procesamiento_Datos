{
  "nbformat": 4,
  "nbformat_minor": 0,
  "metadata": {
    "colab": {
      "name": "Tarea 2.ipynb",
      "provenance": []
    },
    "kernelspec": {
      "name": "python3",
      "display_name": "Python 3"
    },
    "language_info": {
      "name": "python"
    }
  },
  "cells": [
    {
      "cell_type": "markdown",
      "source": [
        "Nombre: Miguel Angel Dominguez Mendoza,\n",
        "Matrícula: 2085384"
      ],
      "metadata": {
        "id": "VuSTVqF2LfJD"
      }
    },
    {
      "cell_type": "code",
      "execution_count": 1,
      "metadata": {
        "id": "pzzArr9nJo5J"
      },
      "outputs": [],
      "source": [
        "# Tratamiento de datos\n",
        "# ==============================================================================\n",
        "import numpy as np\n",
        "import pandas as pd\n",
        "import string\n",
        "import re\n",
        "\n",
        "# Gráficos\n",
        "# ==============================================================================\n",
        "import matplotlib.pyplot as plt\n",
        "from matplotlib import style\n",
        "import seaborn as sns\n",
        "#style.use('ggplot') or plt.style.use('ggplot')\n",
        "\n",
        "# Preprocesado y modelado\n",
        "# ==============================================================================\n",
        "from sklearn import svm\n",
        "from sklearn.model_selection import train_test_split\n",
        "from sklearn.model_selection import GridSearchCV\n",
        "from sklearn.metrics import confusion_matrix\n",
        "from sklearn.feature_extraction.text import TfidfVectorizer\n",
        "import nltk\n",
        "#nltk.download('stopwords')\n",
        "from nltk.corpus import stopwords\n",
        "\n",
        "# Configuración warnings\n",
        "# ==============================================================================\n",
        "import warnings\n",
        "warnings.filterwarnings('ignore')"
      ]
    },
    {
      "cell_type": "code",
      "source": [
        "hotel=pd.read_csv('/content/drive/MyDrive/Colab Notebooks/Procesamiento_y_Clasificacion_de_Datos/Tarea_2/Data/Hotel_Reviews.csv')"
      ],
      "metadata": {
        "id": "CLdhSKmlOGKN"
      },
      "execution_count": 15,
      "outputs": []
    },
    {
      "cell_type": "code",
      "source": [
        "hotel.head(1)"
      ],
      "metadata": {
        "colab": {
          "base_uri": "https://localhost:8080/",
          "height": 231
        },
        "id": "5Elxz3N7OUIy",
        "outputId": "f388da3b-0fe8-4981-c1d8-bc5641aedd08"
      },
      "execution_count": 16,
      "outputs": [
        {
          "output_type": "execute_result",
          "data": {
            "text/plain": [
              "                                       Hotel_Address  \\\n",
              "0   s Gravesandestraat 55 Oost 1092 AA Amsterdam ...   \n",
              "\n",
              "   Additional_Number_of_Scoring Review_Date  Average_Score   Hotel_Name  \\\n",
              "0                           194    8/3/2017            7.7  Hotel Arena   \n",
              "\n",
              "  Reviewer_Nationality                                    Negative_Review  \\\n",
              "0              Russia    I am so angry that i made this post available...   \n",
              "\n",
              "   Review_Total_Negative_Word_Counts  Total_Number_of_Reviews  \\\n",
              "0                                397                     1403   \n",
              "\n",
              "                                     Positive_Review  \\\n",
              "0   Only the park outside of the hotel was beauti...   \n",
              "\n",
              "   Review_Total_Positive_Word_Counts  \\\n",
              "0                                 11   \n",
              "\n",
              "   Total_Number_of_Reviews_Reviewer_Has_Given  Reviewer_Score  \\\n",
              "0                                           7             2.9   \n",
              "\n",
              "                                                Tags days_since_review  \\\n",
              "0  [' Leisure trip ', ' Couple ', ' Duplex Double...            0 days   \n",
              "\n",
              "         lat       lng  \n",
              "0  52.360576  4.915968  "
            ],
            "text/html": [
              "\n",
              "  <div id=\"df-2e21ab04-6483-4006-8bfb-cb707714804f\">\n",
              "    <div class=\"colab-df-container\">\n",
              "      <div>\n",
              "<style scoped>\n",
              "    .dataframe tbody tr th:only-of-type {\n",
              "        vertical-align: middle;\n",
              "    }\n",
              "\n",
              "    .dataframe tbody tr th {\n",
              "        vertical-align: top;\n",
              "    }\n",
              "\n",
              "    .dataframe thead th {\n",
              "        text-align: right;\n",
              "    }\n",
              "</style>\n",
              "<table border=\"1\" class=\"dataframe\">\n",
              "  <thead>\n",
              "    <tr style=\"text-align: right;\">\n",
              "      <th></th>\n",
              "      <th>Hotel_Address</th>\n",
              "      <th>Additional_Number_of_Scoring</th>\n",
              "      <th>Review_Date</th>\n",
              "      <th>Average_Score</th>\n",
              "      <th>Hotel_Name</th>\n",
              "      <th>Reviewer_Nationality</th>\n",
              "      <th>Negative_Review</th>\n",
              "      <th>Review_Total_Negative_Word_Counts</th>\n",
              "      <th>Total_Number_of_Reviews</th>\n",
              "      <th>Positive_Review</th>\n",
              "      <th>Review_Total_Positive_Word_Counts</th>\n",
              "      <th>Total_Number_of_Reviews_Reviewer_Has_Given</th>\n",
              "      <th>Reviewer_Score</th>\n",
              "      <th>Tags</th>\n",
              "      <th>days_since_review</th>\n",
              "      <th>lat</th>\n",
              "      <th>lng</th>\n",
              "    </tr>\n",
              "  </thead>\n",
              "  <tbody>\n",
              "    <tr>\n",
              "      <th>0</th>\n",
              "      <td>s Gravesandestraat 55 Oost 1092 AA Amsterdam ...</td>\n",
              "      <td>194</td>\n",
              "      <td>8/3/2017</td>\n",
              "      <td>7.7</td>\n",
              "      <td>Hotel Arena</td>\n",
              "      <td>Russia</td>\n",
              "      <td>I am so angry that i made this post available...</td>\n",
              "      <td>397</td>\n",
              "      <td>1403</td>\n",
              "      <td>Only the park outside of the hotel was beauti...</td>\n",
              "      <td>11</td>\n",
              "      <td>7</td>\n",
              "      <td>2.9</td>\n",
              "      <td>[' Leisure trip ', ' Couple ', ' Duplex Double...</td>\n",
              "      <td>0 days</td>\n",
              "      <td>52.360576</td>\n",
              "      <td>4.915968</td>\n",
              "    </tr>\n",
              "  </tbody>\n",
              "</table>\n",
              "</div>\n",
              "      <button class=\"colab-df-convert\" onclick=\"convertToInteractive('df-2e21ab04-6483-4006-8bfb-cb707714804f')\"\n",
              "              title=\"Convert this dataframe to an interactive table.\"\n",
              "              style=\"display:none;\">\n",
              "        \n",
              "  <svg xmlns=\"http://www.w3.org/2000/svg\" height=\"24px\"viewBox=\"0 0 24 24\"\n",
              "       width=\"24px\">\n",
              "    <path d=\"M0 0h24v24H0V0z\" fill=\"none\"/>\n",
              "    <path d=\"M18.56 5.44l.94 2.06.94-2.06 2.06-.94-2.06-.94-.94-2.06-.94 2.06-2.06.94zm-11 1L8.5 8.5l.94-2.06 2.06-.94-2.06-.94L8.5 2.5l-.94 2.06-2.06.94zm10 10l.94 2.06.94-2.06 2.06-.94-2.06-.94-.94-2.06-.94 2.06-2.06.94z\"/><path d=\"M17.41 7.96l-1.37-1.37c-.4-.4-.92-.59-1.43-.59-.52 0-1.04.2-1.43.59L10.3 9.45l-7.72 7.72c-.78.78-.78 2.05 0 2.83L4 21.41c.39.39.9.59 1.41.59.51 0 1.02-.2 1.41-.59l7.78-7.78 2.81-2.81c.8-.78.8-2.07 0-2.86zM5.41 20L4 18.59l7.72-7.72 1.47 1.35L5.41 20z\"/>\n",
              "  </svg>\n",
              "      </button>\n",
              "      \n",
              "  <style>\n",
              "    .colab-df-container {\n",
              "      display:flex;\n",
              "      flex-wrap:wrap;\n",
              "      gap: 12px;\n",
              "    }\n",
              "\n",
              "    .colab-df-convert {\n",
              "      background-color: #E8F0FE;\n",
              "      border: none;\n",
              "      border-radius: 50%;\n",
              "      cursor: pointer;\n",
              "      display: none;\n",
              "      fill: #1967D2;\n",
              "      height: 32px;\n",
              "      padding: 0 0 0 0;\n",
              "      width: 32px;\n",
              "    }\n",
              "\n",
              "    .colab-df-convert:hover {\n",
              "      background-color: #E2EBFA;\n",
              "      box-shadow: 0px 1px 2px rgba(60, 64, 67, 0.3), 0px 1px 3px 1px rgba(60, 64, 67, 0.15);\n",
              "      fill: #174EA6;\n",
              "    }\n",
              "\n",
              "    [theme=dark] .colab-df-convert {\n",
              "      background-color: #3B4455;\n",
              "      fill: #D2E3FC;\n",
              "    }\n",
              "\n",
              "    [theme=dark] .colab-df-convert:hover {\n",
              "      background-color: #434B5C;\n",
              "      box-shadow: 0px 1px 3px 1px rgba(0, 0, 0, 0.15);\n",
              "      filter: drop-shadow(0px 1px 2px rgba(0, 0, 0, 0.3));\n",
              "      fill: #FFFFFF;\n",
              "    }\n",
              "  </style>\n",
              "\n",
              "      <script>\n",
              "        const buttonEl =\n",
              "          document.querySelector('#df-2e21ab04-6483-4006-8bfb-cb707714804f button.colab-df-convert');\n",
              "        buttonEl.style.display =\n",
              "          google.colab.kernel.accessAllowed ? 'block' : 'none';\n",
              "\n",
              "        async function convertToInteractive(key) {\n",
              "          const element = document.querySelector('#df-2e21ab04-6483-4006-8bfb-cb707714804f');\n",
              "          const dataTable =\n",
              "            await google.colab.kernel.invokeFunction('convertToInteractive',\n",
              "                                                     [key], {});\n",
              "          if (!dataTable) return;\n",
              "\n",
              "          const docLinkHtml = 'Like what you see? Visit the ' +\n",
              "            '<a target=\"_blank\" href=https://colab.research.google.com/notebooks/data_table.ipynb>data table notebook</a>'\n",
              "            + ' to learn more about interactive tables.';\n",
              "          element.innerHTML = '';\n",
              "          dataTable['output_type'] = 'display_data';\n",
              "          await google.colab.output.renderOutput(dataTable, element);\n",
              "          const docLink = document.createElement('div');\n",
              "          docLink.innerHTML = docLinkHtml;\n",
              "          element.appendChild(docLink);\n",
              "        }\n",
              "      </script>\n",
              "    </div>\n",
              "  </div>\n",
              "  "
            ]
          },
          "metadata": {},
          "execution_count": 16
        }
      ]
    },
    {
      "cell_type": "code",
      "source": [
        "# Juntamos la reseña de los puntos positivos del hotel y la reseña de los puntos negativos para tener una sola reseña.\n",
        "hotel[\"Review\"] = hotel[\"Negative_Review\"] + hotel[\"Positive_Review\"]"
      ],
      "metadata": {
        "id": "Gc1JoANKOYxz"
      },
      "execution_count": 17,
      "outputs": []
    },
    {
      "cell_type": "code",
      "source": [
        "import re\n",
        "\n",
        "# Define a function to clean the text\n",
        "def clean(text):\n",
        "    # Removes all special characters and numericals leaving the alphabets\n",
        "    text = re.sub('[^A-Za-z]+', ' ', text) \n",
        "    return text\n",
        "\n",
        "# Cleaning the text in the review column\n",
        "hotel['Cleaned Reviews'] = hotel['Review'].apply(clean)\n",
        "hotel.head()"
      ],
      "metadata": {
        "colab": {
          "base_uri": "https://localhost:8080/",
          "height": 756
        },
        "id": "f8O1VxcO3Vsz",
        "outputId": "52786b44-5726-47e0-a14c-8791e350917c"
      },
      "execution_count": 19,
      "outputs": [
        {
          "output_type": "execute_result",
          "data": {
            "text/plain": [
              "                                       Hotel_Address  \\\n",
              "0   s Gravesandestraat 55 Oost 1092 AA Amsterdam ...   \n",
              "1   s Gravesandestraat 55 Oost 1092 AA Amsterdam ...   \n",
              "2   s Gravesandestraat 55 Oost 1092 AA Amsterdam ...   \n",
              "3   s Gravesandestraat 55 Oost 1092 AA Amsterdam ...   \n",
              "4   s Gravesandestraat 55 Oost 1092 AA Amsterdam ...   \n",
              "\n",
              "   Additional_Number_of_Scoring Review_Date  Average_Score   Hotel_Name  \\\n",
              "0                           194    8/3/2017            7.7  Hotel Arena   \n",
              "1                           194    8/3/2017            7.7  Hotel Arena   \n",
              "2                           194   7/31/2017            7.7  Hotel Arena   \n",
              "3                           194   7/31/2017            7.7  Hotel Arena   \n",
              "4                           194   7/24/2017            7.7  Hotel Arena   \n",
              "\n",
              "  Reviewer_Nationality                                    Negative_Review  \\\n",
              "0              Russia    I am so angry that i made this post available...   \n",
              "1             Ireland                                         No Negative   \n",
              "2           Australia    Rooms are nice but for elderly a bit difficul...   \n",
              "3      United Kingdom    My room was dirty and I was afraid to walk ba...   \n",
              "4         New Zealand    You When I booked with your company on line y...   \n",
              "\n",
              "   Review_Total_Negative_Word_Counts  Total_Number_of_Reviews  \\\n",
              "0                                397                     1403   \n",
              "1                                  0                     1403   \n",
              "2                                 42                     1403   \n",
              "3                                210                     1403   \n",
              "4                                140                     1403   \n",
              "\n",
              "                                     Positive_Review  \\\n",
              "0   Only the park outside of the hotel was beauti...   \n",
              "1   No real complaints the hotel was great great ...   \n",
              "2   Location was good and staff were ok It is cut...   \n",
              "3   Great location in nice surroundings the bar a...   \n",
              "4    Amazing location and building Romantic setting    \n",
              "\n",
              "   Review_Total_Positive_Word_Counts  \\\n",
              "0                                 11   \n",
              "1                                105   \n",
              "2                                 21   \n",
              "3                                 26   \n",
              "4                                  8   \n",
              "\n",
              "   Total_Number_of_Reviews_Reviewer_Has_Given  Reviewer_Score  \\\n",
              "0                                           7             2.9   \n",
              "1                                           7             7.5   \n",
              "2                                           9             7.1   \n",
              "3                                           1             3.8   \n",
              "4                                           3             6.7   \n",
              "\n",
              "                                                Tags days_since_review  \\\n",
              "0  [' Leisure trip ', ' Couple ', ' Duplex Double...            0 days   \n",
              "1  [' Leisure trip ', ' Couple ', ' Duplex Double...            0 days   \n",
              "2  [' Leisure trip ', ' Family with young childre...            3 days   \n",
              "3  [' Leisure trip ', ' Solo traveler ', ' Duplex...            3 days   \n",
              "4  [' Leisure trip ', ' Couple ', ' Suite ', ' St...           10 days   \n",
              "\n",
              "         lat       lng                                             Review  \\\n",
              "0  52.360576  4.915968   I am so angry that i made this post available...   \n",
              "1  52.360576  4.915968  No Negative No real complaints the hotel was g...   \n",
              "2  52.360576  4.915968   Rooms are nice but for elderly a bit difficul...   \n",
              "3  52.360576  4.915968   My room was dirty and I was afraid to walk ba...   \n",
              "4  52.360576  4.915968   You When I booked with your company on line y...   \n",
              "\n",
              "                                     Cleaned Reviews  \n",
              "0   I am so angry that i made this post available...  \n",
              "1  No Negative No real complaints the hotel was g...  \n",
              "2   Rooms are nice but for elderly a bit difficul...  \n",
              "3   My room was dirty and I was afraid to walk ba...  \n",
              "4   You When I booked with your company on line y...  "
            ],
            "text/html": [
              "\n",
              "  <div id=\"df-c3be71cc-d901-4ecf-8af1-f00337adeaa5\">\n",
              "    <div class=\"colab-df-container\">\n",
              "      <div>\n",
              "<style scoped>\n",
              "    .dataframe tbody tr th:only-of-type {\n",
              "        vertical-align: middle;\n",
              "    }\n",
              "\n",
              "    .dataframe tbody tr th {\n",
              "        vertical-align: top;\n",
              "    }\n",
              "\n",
              "    .dataframe thead th {\n",
              "        text-align: right;\n",
              "    }\n",
              "</style>\n",
              "<table border=\"1\" class=\"dataframe\">\n",
              "  <thead>\n",
              "    <tr style=\"text-align: right;\">\n",
              "      <th></th>\n",
              "      <th>Hotel_Address</th>\n",
              "      <th>Additional_Number_of_Scoring</th>\n",
              "      <th>Review_Date</th>\n",
              "      <th>Average_Score</th>\n",
              "      <th>Hotel_Name</th>\n",
              "      <th>Reviewer_Nationality</th>\n",
              "      <th>Negative_Review</th>\n",
              "      <th>Review_Total_Negative_Word_Counts</th>\n",
              "      <th>Total_Number_of_Reviews</th>\n",
              "      <th>Positive_Review</th>\n",
              "      <th>Review_Total_Positive_Word_Counts</th>\n",
              "      <th>Total_Number_of_Reviews_Reviewer_Has_Given</th>\n",
              "      <th>Reviewer_Score</th>\n",
              "      <th>Tags</th>\n",
              "      <th>days_since_review</th>\n",
              "      <th>lat</th>\n",
              "      <th>lng</th>\n",
              "      <th>Review</th>\n",
              "      <th>Cleaned Reviews</th>\n",
              "    </tr>\n",
              "  </thead>\n",
              "  <tbody>\n",
              "    <tr>\n",
              "      <th>0</th>\n",
              "      <td>s Gravesandestraat 55 Oost 1092 AA Amsterdam ...</td>\n",
              "      <td>194</td>\n",
              "      <td>8/3/2017</td>\n",
              "      <td>7.7</td>\n",
              "      <td>Hotel Arena</td>\n",
              "      <td>Russia</td>\n",
              "      <td>I am so angry that i made this post available...</td>\n",
              "      <td>397</td>\n",
              "      <td>1403</td>\n",
              "      <td>Only the park outside of the hotel was beauti...</td>\n",
              "      <td>11</td>\n",
              "      <td>7</td>\n",
              "      <td>2.9</td>\n",
              "      <td>[' Leisure trip ', ' Couple ', ' Duplex Double...</td>\n",
              "      <td>0 days</td>\n",
              "      <td>52.360576</td>\n",
              "      <td>4.915968</td>\n",
              "      <td>I am so angry that i made this post available...</td>\n",
              "      <td>I am so angry that i made this post available...</td>\n",
              "    </tr>\n",
              "    <tr>\n",
              "      <th>1</th>\n",
              "      <td>s Gravesandestraat 55 Oost 1092 AA Amsterdam ...</td>\n",
              "      <td>194</td>\n",
              "      <td>8/3/2017</td>\n",
              "      <td>7.7</td>\n",
              "      <td>Hotel Arena</td>\n",
              "      <td>Ireland</td>\n",
              "      <td>No Negative</td>\n",
              "      <td>0</td>\n",
              "      <td>1403</td>\n",
              "      <td>No real complaints the hotel was great great ...</td>\n",
              "      <td>105</td>\n",
              "      <td>7</td>\n",
              "      <td>7.5</td>\n",
              "      <td>[' Leisure trip ', ' Couple ', ' Duplex Double...</td>\n",
              "      <td>0 days</td>\n",
              "      <td>52.360576</td>\n",
              "      <td>4.915968</td>\n",
              "      <td>No Negative No real complaints the hotel was g...</td>\n",
              "      <td>No Negative No real complaints the hotel was g...</td>\n",
              "    </tr>\n",
              "    <tr>\n",
              "      <th>2</th>\n",
              "      <td>s Gravesandestraat 55 Oost 1092 AA Amsterdam ...</td>\n",
              "      <td>194</td>\n",
              "      <td>7/31/2017</td>\n",
              "      <td>7.7</td>\n",
              "      <td>Hotel Arena</td>\n",
              "      <td>Australia</td>\n",
              "      <td>Rooms are nice but for elderly a bit difficul...</td>\n",
              "      <td>42</td>\n",
              "      <td>1403</td>\n",
              "      <td>Location was good and staff were ok It is cut...</td>\n",
              "      <td>21</td>\n",
              "      <td>9</td>\n",
              "      <td>7.1</td>\n",
              "      <td>[' Leisure trip ', ' Family with young childre...</td>\n",
              "      <td>3 days</td>\n",
              "      <td>52.360576</td>\n",
              "      <td>4.915968</td>\n",
              "      <td>Rooms are nice but for elderly a bit difficul...</td>\n",
              "      <td>Rooms are nice but for elderly a bit difficul...</td>\n",
              "    </tr>\n",
              "    <tr>\n",
              "      <th>3</th>\n",
              "      <td>s Gravesandestraat 55 Oost 1092 AA Amsterdam ...</td>\n",
              "      <td>194</td>\n",
              "      <td>7/31/2017</td>\n",
              "      <td>7.7</td>\n",
              "      <td>Hotel Arena</td>\n",
              "      <td>United Kingdom</td>\n",
              "      <td>My room was dirty and I was afraid to walk ba...</td>\n",
              "      <td>210</td>\n",
              "      <td>1403</td>\n",
              "      <td>Great location in nice surroundings the bar a...</td>\n",
              "      <td>26</td>\n",
              "      <td>1</td>\n",
              "      <td>3.8</td>\n",
              "      <td>[' Leisure trip ', ' Solo traveler ', ' Duplex...</td>\n",
              "      <td>3 days</td>\n",
              "      <td>52.360576</td>\n",
              "      <td>4.915968</td>\n",
              "      <td>My room was dirty and I was afraid to walk ba...</td>\n",
              "      <td>My room was dirty and I was afraid to walk ba...</td>\n",
              "    </tr>\n",
              "    <tr>\n",
              "      <th>4</th>\n",
              "      <td>s Gravesandestraat 55 Oost 1092 AA Amsterdam ...</td>\n",
              "      <td>194</td>\n",
              "      <td>7/24/2017</td>\n",
              "      <td>7.7</td>\n",
              "      <td>Hotel Arena</td>\n",
              "      <td>New Zealand</td>\n",
              "      <td>You When I booked with your company on line y...</td>\n",
              "      <td>140</td>\n",
              "      <td>1403</td>\n",
              "      <td>Amazing location and building Romantic setting</td>\n",
              "      <td>8</td>\n",
              "      <td>3</td>\n",
              "      <td>6.7</td>\n",
              "      <td>[' Leisure trip ', ' Couple ', ' Suite ', ' St...</td>\n",
              "      <td>10 days</td>\n",
              "      <td>52.360576</td>\n",
              "      <td>4.915968</td>\n",
              "      <td>You When I booked with your company on line y...</td>\n",
              "      <td>You When I booked with your company on line y...</td>\n",
              "    </tr>\n",
              "  </tbody>\n",
              "</table>\n",
              "</div>\n",
              "      <button class=\"colab-df-convert\" onclick=\"convertToInteractive('df-c3be71cc-d901-4ecf-8af1-f00337adeaa5')\"\n",
              "              title=\"Convert this dataframe to an interactive table.\"\n",
              "              style=\"display:none;\">\n",
              "        \n",
              "  <svg xmlns=\"http://www.w3.org/2000/svg\" height=\"24px\"viewBox=\"0 0 24 24\"\n",
              "       width=\"24px\">\n",
              "    <path d=\"M0 0h24v24H0V0z\" fill=\"none\"/>\n",
              "    <path d=\"M18.56 5.44l.94 2.06.94-2.06 2.06-.94-2.06-.94-.94-2.06-.94 2.06-2.06.94zm-11 1L8.5 8.5l.94-2.06 2.06-.94-2.06-.94L8.5 2.5l-.94 2.06-2.06.94zm10 10l.94 2.06.94-2.06 2.06-.94-2.06-.94-.94-2.06-.94 2.06-2.06.94z\"/><path d=\"M17.41 7.96l-1.37-1.37c-.4-.4-.92-.59-1.43-.59-.52 0-1.04.2-1.43.59L10.3 9.45l-7.72 7.72c-.78.78-.78 2.05 0 2.83L4 21.41c.39.39.9.59 1.41.59.51 0 1.02-.2 1.41-.59l7.78-7.78 2.81-2.81c.8-.78.8-2.07 0-2.86zM5.41 20L4 18.59l7.72-7.72 1.47 1.35L5.41 20z\"/>\n",
              "  </svg>\n",
              "      </button>\n",
              "      \n",
              "  <style>\n",
              "    .colab-df-container {\n",
              "      display:flex;\n",
              "      flex-wrap:wrap;\n",
              "      gap: 12px;\n",
              "    }\n",
              "\n",
              "    .colab-df-convert {\n",
              "      background-color: #E8F0FE;\n",
              "      border: none;\n",
              "      border-radius: 50%;\n",
              "      cursor: pointer;\n",
              "      display: none;\n",
              "      fill: #1967D2;\n",
              "      height: 32px;\n",
              "      padding: 0 0 0 0;\n",
              "      width: 32px;\n",
              "    }\n",
              "\n",
              "    .colab-df-convert:hover {\n",
              "      background-color: #E2EBFA;\n",
              "      box-shadow: 0px 1px 2px rgba(60, 64, 67, 0.3), 0px 1px 3px 1px rgba(60, 64, 67, 0.15);\n",
              "      fill: #174EA6;\n",
              "    }\n",
              "\n",
              "    [theme=dark] .colab-df-convert {\n",
              "      background-color: #3B4455;\n",
              "      fill: #D2E3FC;\n",
              "    }\n",
              "\n",
              "    [theme=dark] .colab-df-convert:hover {\n",
              "      background-color: #434B5C;\n",
              "      box-shadow: 0px 1px 3px 1px rgba(0, 0, 0, 0.15);\n",
              "      filter: drop-shadow(0px 1px 2px rgba(0, 0, 0, 0.3));\n",
              "      fill: #FFFFFF;\n",
              "    }\n",
              "  </style>\n",
              "\n",
              "      <script>\n",
              "        const buttonEl =\n",
              "          document.querySelector('#df-c3be71cc-d901-4ecf-8af1-f00337adeaa5 button.colab-df-convert');\n",
              "        buttonEl.style.display =\n",
              "          google.colab.kernel.accessAllowed ? 'block' : 'none';\n",
              "\n",
              "        async function convertToInteractive(key) {\n",
              "          const element = document.querySelector('#df-c3be71cc-d901-4ecf-8af1-f00337adeaa5');\n",
              "          const dataTable =\n",
              "            await google.colab.kernel.invokeFunction('convertToInteractive',\n",
              "                                                     [key], {});\n",
              "          if (!dataTable) return;\n",
              "\n",
              "          const docLinkHtml = 'Like what you see? Visit the ' +\n",
              "            '<a target=\"_blank\" href=https://colab.research.google.com/notebooks/data_table.ipynb>data table notebook</a>'\n",
              "            + ' to learn more about interactive tables.';\n",
              "          element.innerHTML = '';\n",
              "          dataTable['output_type'] = 'display_data';\n",
              "          await google.colab.output.renderOutput(dataTable, element);\n",
              "          const docLink = document.createElement('div');\n",
              "          docLink.innerHTML = docLinkHtml;\n",
              "          element.appendChild(docLink);\n",
              "        }\n",
              "      </script>\n",
              "    </div>\n",
              "  </div>\n",
              "  "
            ]
          },
          "metadata": {},
          "execution_count": 19
        }
      ]
    },
    {
      "cell_type": "code",
      "source": [
        "import nltk\n",
        "nltk.download('punkt')\n",
        "from nltk.tokenize import word_tokenize\n",
        "from nltk import pos_tag\n",
        "nltk.download('stopwords')\n",
        "from nltk.corpus import stopwords\n",
        "nltk.download('wordnet')\n",
        "from nltk.corpus import wordnet\n",
        "nltk.download('averaged_perceptron_tagger')"
      ],
      "metadata": {
        "colab": {
          "base_uri": "https://localhost:8080/"
        },
        "id": "MreX7zBPty9v",
        "outputId": "1d5802ec-3006-411b-f760-2c2aeaa6ce8b"
      },
      "execution_count": 34,
      "outputs": [
        {
          "output_type": "stream",
          "name": "stdout",
          "text": [
            "[nltk_data] Downloading package punkt to /root/nltk_data...\n",
            "[nltk_data]   Unzipping tokenizers/punkt.zip.\n",
            "[nltk_data] Downloading package stopwords to /root/nltk_data...\n",
            "[nltk_data]   Unzipping corpora/stopwords.zip.\n",
            "[nltk_data] Downloading package wordnet to /root/nltk_data...\n",
            "[nltk_data]   Unzipping corpora/wordnet.zip.\n",
            "[nltk_data] Downloading package averaged_perceptron_tagger to\n",
            "[nltk_data]     /root/nltk_data...\n",
            "[nltk_data]   Unzipping taggers/averaged_perceptron_tagger.zip.\n"
          ]
        },
        {
          "output_type": "execute_result",
          "data": {
            "text/plain": [
              "True"
            ]
          },
          "metadata": {},
          "execution_count": 34
        }
      ]
    },
    {
      "cell_type": "code",
      "source": [
        "import nltk\n",
        "nltk.download('punkt')\n",
        "from nltk.tokenize import word_tokenize\n",
        "from nltk import pos_tag\n",
        "nltk.download('stopwords')\n",
        "from nltk.corpus import stopwords\n",
        "nltk.download('wordnet')\n",
        "from nltk.corpus import wordnet\n",
        "nltk.download('averaged_perceptron_tagger')\n",
        "\n",
        "# POS tagger dictionary\n",
        "pos_dict = {'J':wordnet.ADJ, 'V':wordnet.VERB, 'N':wordnet.NOUN, 'R':wordnet.ADV}\n",
        "\n",
        "def token_stop_pos(text):\n",
        "    tags = pos_tag(word_tokenize(text))\n",
        "    newlist = []\n",
        "    for word, tag in tags:\n",
        "        if word.lower() not in set(stopwords.words('english')):\n",
        "            newlist.append(tuple([word, pos_dict.get(tag[0])]))\n",
        "    return newlist\n",
        "\n",
        "hotel['POS tagged'] = hotel['Cleaned Reviews'].apply(token_stop_pos)\n",
        "hotel.head()"
      ],
      "metadata": {
        "colab": {
          "base_uri": "https://localhost:8080/",
          "height": 912
        },
        "id": "XgzzNxih3YxZ",
        "outputId": "61e962ec-ec42-45a2-9f96-035fd83db7f0"
      },
      "execution_count": 20,
      "outputs": [
        {
          "output_type": "stream",
          "name": "stdout",
          "text": [
            "[nltk_data] Downloading package punkt to /root/nltk_data...\n",
            "[nltk_data]   Unzipping tokenizers/punkt.zip.\n",
            "[nltk_data] Downloading package stopwords to /root/nltk_data...\n",
            "[nltk_data]   Package stopwords is already up-to-date!\n",
            "[nltk_data] Downloading package wordnet to /root/nltk_data...\n",
            "[nltk_data]   Unzipping corpora/wordnet.zip.\n",
            "[nltk_data] Downloading package averaged_perceptron_tagger to\n",
            "[nltk_data]     /root/nltk_data...\n",
            "[nltk_data]   Unzipping taggers/averaged_perceptron_tagger.zip.\n"
          ]
        },
        {
          "output_type": "execute_result",
          "data": {
            "text/plain": [
              "                                       Hotel_Address  \\\n",
              "0   s Gravesandestraat 55 Oost 1092 AA Amsterdam ...   \n",
              "1   s Gravesandestraat 55 Oost 1092 AA Amsterdam ...   \n",
              "2   s Gravesandestraat 55 Oost 1092 AA Amsterdam ...   \n",
              "3   s Gravesandestraat 55 Oost 1092 AA Amsterdam ...   \n",
              "4   s Gravesandestraat 55 Oost 1092 AA Amsterdam ...   \n",
              "\n",
              "   Additional_Number_of_Scoring Review_Date  Average_Score   Hotel_Name  \\\n",
              "0                           194    8/3/2017            7.7  Hotel Arena   \n",
              "1                           194    8/3/2017            7.7  Hotel Arena   \n",
              "2                           194   7/31/2017            7.7  Hotel Arena   \n",
              "3                           194   7/31/2017            7.7  Hotel Arena   \n",
              "4                           194   7/24/2017            7.7  Hotel Arena   \n",
              "\n",
              "  Reviewer_Nationality                                    Negative_Review  \\\n",
              "0              Russia    I am so angry that i made this post available...   \n",
              "1             Ireland                                         No Negative   \n",
              "2           Australia    Rooms are nice but for elderly a bit difficul...   \n",
              "3      United Kingdom    My room was dirty and I was afraid to walk ba...   \n",
              "4         New Zealand    You When I booked with your company on line y...   \n",
              "\n",
              "   Review_Total_Negative_Word_Counts  Total_Number_of_Reviews  \\\n",
              "0                                397                     1403   \n",
              "1                                  0                     1403   \n",
              "2                                 42                     1403   \n",
              "3                                210                     1403   \n",
              "4                                140                     1403   \n",
              "\n",
              "                                     Positive_Review  \\\n",
              "0   Only the park outside of the hotel was beauti...   \n",
              "1   No real complaints the hotel was great great ...   \n",
              "2   Location was good and staff were ok It is cut...   \n",
              "3   Great location in nice surroundings the bar a...   \n",
              "4    Amazing location and building Romantic setting    \n",
              "\n",
              "   Review_Total_Positive_Word_Counts  \\\n",
              "0                                 11   \n",
              "1                                105   \n",
              "2                                 21   \n",
              "3                                 26   \n",
              "4                                  8   \n",
              "\n",
              "   Total_Number_of_Reviews_Reviewer_Has_Given  Reviewer_Score  \\\n",
              "0                                           7             2.9   \n",
              "1                                           7             7.5   \n",
              "2                                           9             7.1   \n",
              "3                                           1             3.8   \n",
              "4                                           3             6.7   \n",
              "\n",
              "                                                Tags days_since_review  \\\n",
              "0  [' Leisure trip ', ' Couple ', ' Duplex Double...            0 days   \n",
              "1  [' Leisure trip ', ' Couple ', ' Duplex Double...            0 days   \n",
              "2  [' Leisure trip ', ' Family with young childre...            3 days   \n",
              "3  [' Leisure trip ', ' Solo traveler ', ' Duplex...            3 days   \n",
              "4  [' Leisure trip ', ' Couple ', ' Suite ', ' St...           10 days   \n",
              "\n",
              "         lat       lng                                             Review  \\\n",
              "0  52.360576  4.915968   I am so angry that i made this post available...   \n",
              "1  52.360576  4.915968  No Negative No real complaints the hotel was g...   \n",
              "2  52.360576  4.915968   Rooms are nice but for elderly a bit difficul...   \n",
              "3  52.360576  4.915968   My room was dirty and I was afraid to walk ba...   \n",
              "4  52.360576  4.915968   You When I booked with your company on line y...   \n",
              "\n",
              "                                     Cleaned Reviews  \\\n",
              "0   I am so angry that i made this post available...   \n",
              "1  No Negative No real complaints the hotel was g...   \n",
              "2   Rooms are nice but for elderly a bit difficul...   \n",
              "3   My room was dirty and I was afraid to walk ba...   \n",
              "4   You When I booked with your company on line y...   \n",
              "\n",
              "                                          POS tagged  \n",
              "0  [(angry, a), (made, v), (post, n), (available,...  \n",
              "1  [(Negative, n), (real, a), (complaints, n), (h...  \n",
              "2  [(Rooms, n), (nice, a), (elderly, r), (bit, n)...  \n",
              "3  [(room, n), (dirty, a), (afraid, a), (walk, v)...  \n",
              "4  [(booked, v), (company, n), (line, n), (showed...  "
            ],
            "text/html": [
              "\n",
              "  <div id=\"df-173259e5-4e5a-4fc7-81fa-ac73c1b20084\">\n",
              "    <div class=\"colab-df-container\">\n",
              "      <div>\n",
              "<style scoped>\n",
              "    .dataframe tbody tr th:only-of-type {\n",
              "        vertical-align: middle;\n",
              "    }\n",
              "\n",
              "    .dataframe tbody tr th {\n",
              "        vertical-align: top;\n",
              "    }\n",
              "\n",
              "    .dataframe thead th {\n",
              "        text-align: right;\n",
              "    }\n",
              "</style>\n",
              "<table border=\"1\" class=\"dataframe\">\n",
              "  <thead>\n",
              "    <tr style=\"text-align: right;\">\n",
              "      <th></th>\n",
              "      <th>Hotel_Address</th>\n",
              "      <th>Additional_Number_of_Scoring</th>\n",
              "      <th>Review_Date</th>\n",
              "      <th>Average_Score</th>\n",
              "      <th>Hotel_Name</th>\n",
              "      <th>Reviewer_Nationality</th>\n",
              "      <th>Negative_Review</th>\n",
              "      <th>Review_Total_Negative_Word_Counts</th>\n",
              "      <th>Total_Number_of_Reviews</th>\n",
              "      <th>Positive_Review</th>\n",
              "      <th>Review_Total_Positive_Word_Counts</th>\n",
              "      <th>Total_Number_of_Reviews_Reviewer_Has_Given</th>\n",
              "      <th>Reviewer_Score</th>\n",
              "      <th>Tags</th>\n",
              "      <th>days_since_review</th>\n",
              "      <th>lat</th>\n",
              "      <th>lng</th>\n",
              "      <th>Review</th>\n",
              "      <th>Cleaned Reviews</th>\n",
              "      <th>POS tagged</th>\n",
              "    </tr>\n",
              "  </thead>\n",
              "  <tbody>\n",
              "    <tr>\n",
              "      <th>0</th>\n",
              "      <td>s Gravesandestraat 55 Oost 1092 AA Amsterdam ...</td>\n",
              "      <td>194</td>\n",
              "      <td>8/3/2017</td>\n",
              "      <td>7.7</td>\n",
              "      <td>Hotel Arena</td>\n",
              "      <td>Russia</td>\n",
              "      <td>I am so angry that i made this post available...</td>\n",
              "      <td>397</td>\n",
              "      <td>1403</td>\n",
              "      <td>Only the park outside of the hotel was beauti...</td>\n",
              "      <td>11</td>\n",
              "      <td>7</td>\n",
              "      <td>2.9</td>\n",
              "      <td>[' Leisure trip ', ' Couple ', ' Duplex Double...</td>\n",
              "      <td>0 days</td>\n",
              "      <td>52.360576</td>\n",
              "      <td>4.915968</td>\n",
              "      <td>I am so angry that i made this post available...</td>\n",
              "      <td>I am so angry that i made this post available...</td>\n",
              "      <td>[(angry, a), (made, v), (post, n), (available,...</td>\n",
              "    </tr>\n",
              "    <tr>\n",
              "      <th>1</th>\n",
              "      <td>s Gravesandestraat 55 Oost 1092 AA Amsterdam ...</td>\n",
              "      <td>194</td>\n",
              "      <td>8/3/2017</td>\n",
              "      <td>7.7</td>\n",
              "      <td>Hotel Arena</td>\n",
              "      <td>Ireland</td>\n",
              "      <td>No Negative</td>\n",
              "      <td>0</td>\n",
              "      <td>1403</td>\n",
              "      <td>No real complaints the hotel was great great ...</td>\n",
              "      <td>105</td>\n",
              "      <td>7</td>\n",
              "      <td>7.5</td>\n",
              "      <td>[' Leisure trip ', ' Couple ', ' Duplex Double...</td>\n",
              "      <td>0 days</td>\n",
              "      <td>52.360576</td>\n",
              "      <td>4.915968</td>\n",
              "      <td>No Negative No real complaints the hotel was g...</td>\n",
              "      <td>No Negative No real complaints the hotel was g...</td>\n",
              "      <td>[(Negative, n), (real, a), (complaints, n), (h...</td>\n",
              "    </tr>\n",
              "    <tr>\n",
              "      <th>2</th>\n",
              "      <td>s Gravesandestraat 55 Oost 1092 AA Amsterdam ...</td>\n",
              "      <td>194</td>\n",
              "      <td>7/31/2017</td>\n",
              "      <td>7.7</td>\n",
              "      <td>Hotel Arena</td>\n",
              "      <td>Australia</td>\n",
              "      <td>Rooms are nice but for elderly a bit difficul...</td>\n",
              "      <td>42</td>\n",
              "      <td>1403</td>\n",
              "      <td>Location was good and staff were ok It is cut...</td>\n",
              "      <td>21</td>\n",
              "      <td>9</td>\n",
              "      <td>7.1</td>\n",
              "      <td>[' Leisure trip ', ' Family with young childre...</td>\n",
              "      <td>3 days</td>\n",
              "      <td>52.360576</td>\n",
              "      <td>4.915968</td>\n",
              "      <td>Rooms are nice but for elderly a bit difficul...</td>\n",
              "      <td>Rooms are nice but for elderly a bit difficul...</td>\n",
              "      <td>[(Rooms, n), (nice, a), (elderly, r), (bit, n)...</td>\n",
              "    </tr>\n",
              "    <tr>\n",
              "      <th>3</th>\n",
              "      <td>s Gravesandestraat 55 Oost 1092 AA Amsterdam ...</td>\n",
              "      <td>194</td>\n",
              "      <td>7/31/2017</td>\n",
              "      <td>7.7</td>\n",
              "      <td>Hotel Arena</td>\n",
              "      <td>United Kingdom</td>\n",
              "      <td>My room was dirty and I was afraid to walk ba...</td>\n",
              "      <td>210</td>\n",
              "      <td>1403</td>\n",
              "      <td>Great location in nice surroundings the bar a...</td>\n",
              "      <td>26</td>\n",
              "      <td>1</td>\n",
              "      <td>3.8</td>\n",
              "      <td>[' Leisure trip ', ' Solo traveler ', ' Duplex...</td>\n",
              "      <td>3 days</td>\n",
              "      <td>52.360576</td>\n",
              "      <td>4.915968</td>\n",
              "      <td>My room was dirty and I was afraid to walk ba...</td>\n",
              "      <td>My room was dirty and I was afraid to walk ba...</td>\n",
              "      <td>[(room, n), (dirty, a), (afraid, a), (walk, v)...</td>\n",
              "    </tr>\n",
              "    <tr>\n",
              "      <th>4</th>\n",
              "      <td>s Gravesandestraat 55 Oost 1092 AA Amsterdam ...</td>\n",
              "      <td>194</td>\n",
              "      <td>7/24/2017</td>\n",
              "      <td>7.7</td>\n",
              "      <td>Hotel Arena</td>\n",
              "      <td>New Zealand</td>\n",
              "      <td>You When I booked with your company on line y...</td>\n",
              "      <td>140</td>\n",
              "      <td>1403</td>\n",
              "      <td>Amazing location and building Romantic setting</td>\n",
              "      <td>8</td>\n",
              "      <td>3</td>\n",
              "      <td>6.7</td>\n",
              "      <td>[' Leisure trip ', ' Couple ', ' Suite ', ' St...</td>\n",
              "      <td>10 days</td>\n",
              "      <td>52.360576</td>\n",
              "      <td>4.915968</td>\n",
              "      <td>You When I booked with your company on line y...</td>\n",
              "      <td>You When I booked with your company on line y...</td>\n",
              "      <td>[(booked, v), (company, n), (line, n), (showed...</td>\n",
              "    </tr>\n",
              "  </tbody>\n",
              "</table>\n",
              "</div>\n",
              "      <button class=\"colab-df-convert\" onclick=\"convertToInteractive('df-173259e5-4e5a-4fc7-81fa-ac73c1b20084')\"\n",
              "              title=\"Convert this dataframe to an interactive table.\"\n",
              "              style=\"display:none;\">\n",
              "        \n",
              "  <svg xmlns=\"http://www.w3.org/2000/svg\" height=\"24px\"viewBox=\"0 0 24 24\"\n",
              "       width=\"24px\">\n",
              "    <path d=\"M0 0h24v24H0V0z\" fill=\"none\"/>\n",
              "    <path d=\"M18.56 5.44l.94 2.06.94-2.06 2.06-.94-2.06-.94-.94-2.06-.94 2.06-2.06.94zm-11 1L8.5 8.5l.94-2.06 2.06-.94-2.06-.94L8.5 2.5l-.94 2.06-2.06.94zm10 10l.94 2.06.94-2.06 2.06-.94-2.06-.94-.94-2.06-.94 2.06-2.06.94z\"/><path d=\"M17.41 7.96l-1.37-1.37c-.4-.4-.92-.59-1.43-.59-.52 0-1.04.2-1.43.59L10.3 9.45l-7.72 7.72c-.78.78-.78 2.05 0 2.83L4 21.41c.39.39.9.59 1.41.59.51 0 1.02-.2 1.41-.59l7.78-7.78 2.81-2.81c.8-.78.8-2.07 0-2.86zM5.41 20L4 18.59l7.72-7.72 1.47 1.35L5.41 20z\"/>\n",
              "  </svg>\n",
              "      </button>\n",
              "      \n",
              "  <style>\n",
              "    .colab-df-container {\n",
              "      display:flex;\n",
              "      flex-wrap:wrap;\n",
              "      gap: 12px;\n",
              "    }\n",
              "\n",
              "    .colab-df-convert {\n",
              "      background-color: #E8F0FE;\n",
              "      border: none;\n",
              "      border-radius: 50%;\n",
              "      cursor: pointer;\n",
              "      display: none;\n",
              "      fill: #1967D2;\n",
              "      height: 32px;\n",
              "      padding: 0 0 0 0;\n",
              "      width: 32px;\n",
              "    }\n",
              "\n",
              "    .colab-df-convert:hover {\n",
              "      background-color: #E2EBFA;\n",
              "      box-shadow: 0px 1px 2px rgba(60, 64, 67, 0.3), 0px 1px 3px 1px rgba(60, 64, 67, 0.15);\n",
              "      fill: #174EA6;\n",
              "    }\n",
              "\n",
              "    [theme=dark] .colab-df-convert {\n",
              "      background-color: #3B4455;\n",
              "      fill: #D2E3FC;\n",
              "    }\n",
              "\n",
              "    [theme=dark] .colab-df-convert:hover {\n",
              "      background-color: #434B5C;\n",
              "      box-shadow: 0px 1px 3px 1px rgba(0, 0, 0, 0.15);\n",
              "      filter: drop-shadow(0px 1px 2px rgba(0, 0, 0, 0.3));\n",
              "      fill: #FFFFFF;\n",
              "    }\n",
              "  </style>\n",
              "\n",
              "      <script>\n",
              "        const buttonEl =\n",
              "          document.querySelector('#df-173259e5-4e5a-4fc7-81fa-ac73c1b20084 button.colab-df-convert');\n",
              "        buttonEl.style.display =\n",
              "          google.colab.kernel.accessAllowed ? 'block' : 'none';\n",
              "\n",
              "        async function convertToInteractive(key) {\n",
              "          const element = document.querySelector('#df-173259e5-4e5a-4fc7-81fa-ac73c1b20084');\n",
              "          const dataTable =\n",
              "            await google.colab.kernel.invokeFunction('convertToInteractive',\n",
              "                                                     [key], {});\n",
              "          if (!dataTable) return;\n",
              "\n",
              "          const docLinkHtml = 'Like what you see? Visit the ' +\n",
              "            '<a target=\"_blank\" href=https://colab.research.google.com/notebooks/data_table.ipynb>data table notebook</a>'\n",
              "            + ' to learn more about interactive tables.';\n",
              "          element.innerHTML = '';\n",
              "          dataTable['output_type'] = 'display_data';\n",
              "          await google.colab.output.renderOutput(dataTable, element);\n",
              "          const docLink = document.createElement('div');\n",
              "          docLink.innerHTML = docLinkHtml;\n",
              "          element.appendChild(docLink);\n",
              "        }\n",
              "      </script>\n",
              "    </div>\n",
              "  </div>\n",
              "  "
            ]
          },
          "metadata": {},
          "execution_count": 20
        }
      ]
    },
    {
      "cell_type": "code",
      "source": [
        "from nltk.stem import WordNetLemmatizer\n",
        "wordnet_lemmatizer = WordNetLemmatizer()"
      ],
      "metadata": {
        "id": "EPWFddwJt8pV"
      },
      "execution_count": 36,
      "outputs": []
    },
    {
      "cell_type": "code",
      "source": [
        "from nltk.stem import WordNetLemmatizer\n",
        "wordnet_lemmatizer = WordNetLemmatizer()\n",
        "\n",
        "def lemmatize(pos_data):\n",
        "    lemma_rew = \" \"\n",
        "    for word, pos in pos_data:\n",
        "        if not pos: \n",
        "            lemma = word\n",
        "            lemma_rew = lemma_rew + \" \" + lemma\n",
        "        else:  \n",
        "            lemma = wordnet_lemmatizer.lemmatize(word, pos=pos)\n",
        "            lemma_rew = lemma_rew + \" \" + lemma\n",
        "    return lemma_rew\n",
        "    \n",
        "hotel['Lemma'] = hotel['POS tagged'].apply(lemmatize)\n",
        "hotel.head()"
      ],
      "metadata": {
        "colab": {
          "base_uri": "https://localhost:8080/",
          "height": 820
        },
        "id": "biUqIOcT3uff",
        "outputId": "eb026d7d-56ef-40bf-bd9b-986d336c43b0"
      },
      "execution_count": 21,
      "outputs": [
        {
          "output_type": "execute_result",
          "data": {
            "text/plain": [
              "                                       Hotel_Address  \\\n",
              "0   s Gravesandestraat 55 Oost 1092 AA Amsterdam ...   \n",
              "1   s Gravesandestraat 55 Oost 1092 AA Amsterdam ...   \n",
              "2   s Gravesandestraat 55 Oost 1092 AA Amsterdam ...   \n",
              "3   s Gravesandestraat 55 Oost 1092 AA Amsterdam ...   \n",
              "4   s Gravesandestraat 55 Oost 1092 AA Amsterdam ...   \n",
              "\n",
              "   Additional_Number_of_Scoring Review_Date  Average_Score   Hotel_Name  \\\n",
              "0                           194    8/3/2017            7.7  Hotel Arena   \n",
              "1                           194    8/3/2017            7.7  Hotel Arena   \n",
              "2                           194   7/31/2017            7.7  Hotel Arena   \n",
              "3                           194   7/31/2017            7.7  Hotel Arena   \n",
              "4                           194   7/24/2017            7.7  Hotel Arena   \n",
              "\n",
              "  Reviewer_Nationality                                    Negative_Review  \\\n",
              "0              Russia    I am so angry that i made this post available...   \n",
              "1             Ireland                                         No Negative   \n",
              "2           Australia    Rooms are nice but for elderly a bit difficul...   \n",
              "3      United Kingdom    My room was dirty and I was afraid to walk ba...   \n",
              "4         New Zealand    You When I booked with your company on line y...   \n",
              "\n",
              "   Review_Total_Negative_Word_Counts  Total_Number_of_Reviews  \\\n",
              "0                                397                     1403   \n",
              "1                                  0                     1403   \n",
              "2                                 42                     1403   \n",
              "3                                210                     1403   \n",
              "4                                140                     1403   \n",
              "\n",
              "                                     Positive_Review  ...  \\\n",
              "0   Only the park outside of the hotel was beauti...  ...   \n",
              "1   No real complaints the hotel was great great ...  ...   \n",
              "2   Location was good and staff were ok It is cut...  ...   \n",
              "3   Great location in nice surroundings the bar a...  ...   \n",
              "4    Amazing location and building Romantic setting   ...   \n",
              "\n",
              "   Total_Number_of_Reviews_Reviewer_Has_Given  Reviewer_Score  \\\n",
              "0                                           7             2.9   \n",
              "1                                           7             7.5   \n",
              "2                                           9             7.1   \n",
              "3                                           1             3.8   \n",
              "4                                           3             6.7   \n",
              "\n",
              "                                                Tags days_since_review  \\\n",
              "0  [' Leisure trip ', ' Couple ', ' Duplex Double...            0 days   \n",
              "1  [' Leisure trip ', ' Couple ', ' Duplex Double...            0 days   \n",
              "2  [' Leisure trip ', ' Family with young childre...            3 days   \n",
              "3  [' Leisure trip ', ' Solo traveler ', ' Duplex...            3 days   \n",
              "4  [' Leisure trip ', ' Couple ', ' Suite ', ' St...           10 days   \n",
              "\n",
              "         lat       lng                                             Review  \\\n",
              "0  52.360576  4.915968   I am so angry that i made this post available...   \n",
              "1  52.360576  4.915968  No Negative No real complaints the hotel was g...   \n",
              "2  52.360576  4.915968   Rooms are nice but for elderly a bit difficul...   \n",
              "3  52.360576  4.915968   My room was dirty and I was afraid to walk ba...   \n",
              "4  52.360576  4.915968   You When I booked with your company on line y...   \n",
              "\n",
              "                                     Cleaned Reviews  \\\n",
              "0   I am so angry that i made this post available...   \n",
              "1  No Negative No real complaints the hotel was g...   \n",
              "2   Rooms are nice but for elderly a bit difficul...   \n",
              "3   My room was dirty and I was afraid to walk ba...   \n",
              "4   You When I booked with your company on line y...   \n",
              "\n",
              "                                          POS tagged  \\\n",
              "0  [(angry, a), (made, v), (post, n), (available,...   \n",
              "1  [(Negative, n), (real, a), (complaints, n), (h...   \n",
              "2  [(Rooms, n), (nice, a), (elderly, r), (bit, n)...   \n",
              "3  [(room, n), (dirty, a), (afraid, a), (walk, v)...   \n",
              "4  [(booked, v), (company, n), (line, n), (showed...   \n",
              "\n",
              "                                               Lemma  \n",
              "0    angry make post available via possible site ...  \n",
              "1    Negative real complaint hotel great great lo...  \n",
              "2    Rooms nice elderly bit difficult room two st...  \n",
              "3    room dirty afraid walk barefoot floor look c...  \n",
              "4    book company line show picture room think ge...  \n",
              "\n",
              "[5 rows x 21 columns]"
            ],
            "text/html": [
              "\n",
              "  <div id=\"df-2015e2bc-4e33-420b-bee0-9ba3f8d41e79\">\n",
              "    <div class=\"colab-df-container\">\n",
              "      <div>\n",
              "<style scoped>\n",
              "    .dataframe tbody tr th:only-of-type {\n",
              "        vertical-align: middle;\n",
              "    }\n",
              "\n",
              "    .dataframe tbody tr th {\n",
              "        vertical-align: top;\n",
              "    }\n",
              "\n",
              "    .dataframe thead th {\n",
              "        text-align: right;\n",
              "    }\n",
              "</style>\n",
              "<table border=\"1\" class=\"dataframe\">\n",
              "  <thead>\n",
              "    <tr style=\"text-align: right;\">\n",
              "      <th></th>\n",
              "      <th>Hotel_Address</th>\n",
              "      <th>Additional_Number_of_Scoring</th>\n",
              "      <th>Review_Date</th>\n",
              "      <th>Average_Score</th>\n",
              "      <th>Hotel_Name</th>\n",
              "      <th>Reviewer_Nationality</th>\n",
              "      <th>Negative_Review</th>\n",
              "      <th>Review_Total_Negative_Word_Counts</th>\n",
              "      <th>Total_Number_of_Reviews</th>\n",
              "      <th>Positive_Review</th>\n",
              "      <th>...</th>\n",
              "      <th>Total_Number_of_Reviews_Reviewer_Has_Given</th>\n",
              "      <th>Reviewer_Score</th>\n",
              "      <th>Tags</th>\n",
              "      <th>days_since_review</th>\n",
              "      <th>lat</th>\n",
              "      <th>lng</th>\n",
              "      <th>Review</th>\n",
              "      <th>Cleaned Reviews</th>\n",
              "      <th>POS tagged</th>\n",
              "      <th>Lemma</th>\n",
              "    </tr>\n",
              "  </thead>\n",
              "  <tbody>\n",
              "    <tr>\n",
              "      <th>0</th>\n",
              "      <td>s Gravesandestraat 55 Oost 1092 AA Amsterdam ...</td>\n",
              "      <td>194</td>\n",
              "      <td>8/3/2017</td>\n",
              "      <td>7.7</td>\n",
              "      <td>Hotel Arena</td>\n",
              "      <td>Russia</td>\n",
              "      <td>I am so angry that i made this post available...</td>\n",
              "      <td>397</td>\n",
              "      <td>1403</td>\n",
              "      <td>Only the park outside of the hotel was beauti...</td>\n",
              "      <td>...</td>\n",
              "      <td>7</td>\n",
              "      <td>2.9</td>\n",
              "      <td>[' Leisure trip ', ' Couple ', ' Duplex Double...</td>\n",
              "      <td>0 days</td>\n",
              "      <td>52.360576</td>\n",
              "      <td>4.915968</td>\n",
              "      <td>I am so angry that i made this post available...</td>\n",
              "      <td>I am so angry that i made this post available...</td>\n",
              "      <td>[(angry, a), (made, v), (post, n), (available,...</td>\n",
              "      <td>angry make post available via possible site ...</td>\n",
              "    </tr>\n",
              "    <tr>\n",
              "      <th>1</th>\n",
              "      <td>s Gravesandestraat 55 Oost 1092 AA Amsterdam ...</td>\n",
              "      <td>194</td>\n",
              "      <td>8/3/2017</td>\n",
              "      <td>7.7</td>\n",
              "      <td>Hotel Arena</td>\n",
              "      <td>Ireland</td>\n",
              "      <td>No Negative</td>\n",
              "      <td>0</td>\n",
              "      <td>1403</td>\n",
              "      <td>No real complaints the hotel was great great ...</td>\n",
              "      <td>...</td>\n",
              "      <td>7</td>\n",
              "      <td>7.5</td>\n",
              "      <td>[' Leisure trip ', ' Couple ', ' Duplex Double...</td>\n",
              "      <td>0 days</td>\n",
              "      <td>52.360576</td>\n",
              "      <td>4.915968</td>\n",
              "      <td>No Negative No real complaints the hotel was g...</td>\n",
              "      <td>No Negative No real complaints the hotel was g...</td>\n",
              "      <td>[(Negative, n), (real, a), (complaints, n), (h...</td>\n",
              "      <td>Negative real complaint hotel great great lo...</td>\n",
              "    </tr>\n",
              "    <tr>\n",
              "      <th>2</th>\n",
              "      <td>s Gravesandestraat 55 Oost 1092 AA Amsterdam ...</td>\n",
              "      <td>194</td>\n",
              "      <td>7/31/2017</td>\n",
              "      <td>7.7</td>\n",
              "      <td>Hotel Arena</td>\n",
              "      <td>Australia</td>\n",
              "      <td>Rooms are nice but for elderly a bit difficul...</td>\n",
              "      <td>42</td>\n",
              "      <td>1403</td>\n",
              "      <td>Location was good and staff were ok It is cut...</td>\n",
              "      <td>...</td>\n",
              "      <td>9</td>\n",
              "      <td>7.1</td>\n",
              "      <td>[' Leisure trip ', ' Family with young childre...</td>\n",
              "      <td>3 days</td>\n",
              "      <td>52.360576</td>\n",
              "      <td>4.915968</td>\n",
              "      <td>Rooms are nice but for elderly a bit difficul...</td>\n",
              "      <td>Rooms are nice but for elderly a bit difficul...</td>\n",
              "      <td>[(Rooms, n), (nice, a), (elderly, r), (bit, n)...</td>\n",
              "      <td>Rooms nice elderly bit difficult room two st...</td>\n",
              "    </tr>\n",
              "    <tr>\n",
              "      <th>3</th>\n",
              "      <td>s Gravesandestraat 55 Oost 1092 AA Amsterdam ...</td>\n",
              "      <td>194</td>\n",
              "      <td>7/31/2017</td>\n",
              "      <td>7.7</td>\n",
              "      <td>Hotel Arena</td>\n",
              "      <td>United Kingdom</td>\n",
              "      <td>My room was dirty and I was afraid to walk ba...</td>\n",
              "      <td>210</td>\n",
              "      <td>1403</td>\n",
              "      <td>Great location in nice surroundings the bar a...</td>\n",
              "      <td>...</td>\n",
              "      <td>1</td>\n",
              "      <td>3.8</td>\n",
              "      <td>[' Leisure trip ', ' Solo traveler ', ' Duplex...</td>\n",
              "      <td>3 days</td>\n",
              "      <td>52.360576</td>\n",
              "      <td>4.915968</td>\n",
              "      <td>My room was dirty and I was afraid to walk ba...</td>\n",
              "      <td>My room was dirty and I was afraid to walk ba...</td>\n",
              "      <td>[(room, n), (dirty, a), (afraid, a), (walk, v)...</td>\n",
              "      <td>room dirty afraid walk barefoot floor look c...</td>\n",
              "    </tr>\n",
              "    <tr>\n",
              "      <th>4</th>\n",
              "      <td>s Gravesandestraat 55 Oost 1092 AA Amsterdam ...</td>\n",
              "      <td>194</td>\n",
              "      <td>7/24/2017</td>\n",
              "      <td>7.7</td>\n",
              "      <td>Hotel Arena</td>\n",
              "      <td>New Zealand</td>\n",
              "      <td>You When I booked with your company on line y...</td>\n",
              "      <td>140</td>\n",
              "      <td>1403</td>\n",
              "      <td>Amazing location and building Romantic setting</td>\n",
              "      <td>...</td>\n",
              "      <td>3</td>\n",
              "      <td>6.7</td>\n",
              "      <td>[' Leisure trip ', ' Couple ', ' Suite ', ' St...</td>\n",
              "      <td>10 days</td>\n",
              "      <td>52.360576</td>\n",
              "      <td>4.915968</td>\n",
              "      <td>You When I booked with your company on line y...</td>\n",
              "      <td>You When I booked with your company on line y...</td>\n",
              "      <td>[(booked, v), (company, n), (line, n), (showed...</td>\n",
              "      <td>book company line show picture room think ge...</td>\n",
              "    </tr>\n",
              "  </tbody>\n",
              "</table>\n",
              "<p>5 rows × 21 columns</p>\n",
              "</div>\n",
              "      <button class=\"colab-df-convert\" onclick=\"convertToInteractive('df-2015e2bc-4e33-420b-bee0-9ba3f8d41e79')\"\n",
              "              title=\"Convert this dataframe to an interactive table.\"\n",
              "              style=\"display:none;\">\n",
              "        \n",
              "  <svg xmlns=\"http://www.w3.org/2000/svg\" height=\"24px\"viewBox=\"0 0 24 24\"\n",
              "       width=\"24px\">\n",
              "    <path d=\"M0 0h24v24H0V0z\" fill=\"none\"/>\n",
              "    <path d=\"M18.56 5.44l.94 2.06.94-2.06 2.06-.94-2.06-.94-.94-2.06-.94 2.06-2.06.94zm-11 1L8.5 8.5l.94-2.06 2.06-.94-2.06-.94L8.5 2.5l-.94 2.06-2.06.94zm10 10l.94 2.06.94-2.06 2.06-.94-2.06-.94-.94-2.06-.94 2.06-2.06.94z\"/><path d=\"M17.41 7.96l-1.37-1.37c-.4-.4-.92-.59-1.43-.59-.52 0-1.04.2-1.43.59L10.3 9.45l-7.72 7.72c-.78.78-.78 2.05 0 2.83L4 21.41c.39.39.9.59 1.41.59.51 0 1.02-.2 1.41-.59l7.78-7.78 2.81-2.81c.8-.78.8-2.07 0-2.86zM5.41 20L4 18.59l7.72-7.72 1.47 1.35L5.41 20z\"/>\n",
              "  </svg>\n",
              "      </button>\n",
              "      \n",
              "  <style>\n",
              "    .colab-df-container {\n",
              "      display:flex;\n",
              "      flex-wrap:wrap;\n",
              "      gap: 12px;\n",
              "    }\n",
              "\n",
              "    .colab-df-convert {\n",
              "      background-color: #E8F0FE;\n",
              "      border: none;\n",
              "      border-radius: 50%;\n",
              "      cursor: pointer;\n",
              "      display: none;\n",
              "      fill: #1967D2;\n",
              "      height: 32px;\n",
              "      padding: 0 0 0 0;\n",
              "      width: 32px;\n",
              "    }\n",
              "\n",
              "    .colab-df-convert:hover {\n",
              "      background-color: #E2EBFA;\n",
              "      box-shadow: 0px 1px 2px rgba(60, 64, 67, 0.3), 0px 1px 3px 1px rgba(60, 64, 67, 0.15);\n",
              "      fill: #174EA6;\n",
              "    }\n",
              "\n",
              "    [theme=dark] .colab-df-convert {\n",
              "      background-color: #3B4455;\n",
              "      fill: #D2E3FC;\n",
              "    }\n",
              "\n",
              "    [theme=dark] .colab-df-convert:hover {\n",
              "      background-color: #434B5C;\n",
              "      box-shadow: 0px 1px 3px 1px rgba(0, 0, 0, 0.15);\n",
              "      filter: drop-shadow(0px 1px 2px rgba(0, 0, 0, 0.3));\n",
              "      fill: #FFFFFF;\n",
              "    }\n",
              "  </style>\n",
              "\n",
              "      <script>\n",
              "        const buttonEl =\n",
              "          document.querySelector('#df-2015e2bc-4e33-420b-bee0-9ba3f8d41e79 button.colab-df-convert');\n",
              "        buttonEl.style.display =\n",
              "          google.colab.kernel.accessAllowed ? 'block' : 'none';\n",
              "\n",
              "        async function convertToInteractive(key) {\n",
              "          const element = document.querySelector('#df-2015e2bc-4e33-420b-bee0-9ba3f8d41e79');\n",
              "          const dataTable =\n",
              "            await google.colab.kernel.invokeFunction('convertToInteractive',\n",
              "                                                     [key], {});\n",
              "          if (!dataTable) return;\n",
              "\n",
              "          const docLinkHtml = 'Like what you see? Visit the ' +\n",
              "            '<a target=\"_blank\" href=https://colab.research.google.com/notebooks/data_table.ipynb>data table notebook</a>'\n",
              "            + ' to learn more about interactive tables.';\n",
              "          element.innerHTML = '';\n",
              "          dataTable['output_type'] = 'display_data';\n",
              "          await google.colab.output.renderOutput(dataTable, element);\n",
              "          const docLink = document.createElement('div');\n",
              "          docLink.innerHTML = docLinkHtml;\n",
              "          element.appendChild(docLink);\n",
              "        }\n",
              "      </script>\n",
              "    </div>\n",
              "  </div>\n",
              "  "
            ]
          },
          "metadata": {},
          "execution_count": 21
        }
      ]
    },
    {
      "cell_type": "code",
      "source": [
        "hotel.to_csv('/content/drive/MyDrive/Colab Notebooks/Procesamiento_y_Clasificacion_de_Datos/Tarea_2/Data/Hotel_Reviews_Lematizado.csv',index=False)"
      ],
      "metadata": {
        "id": "vpRwuEBH33H6"
      },
      "execution_count": 22,
      "outputs": []
    },
    {
      "cell_type": "code",
      "source": [
        "%%time\n",
        "hotel=pd.read_csv('/content/drive/MyDrive/Colab Notebooks/Procesamiento_y_Clasificacion_de_Datos/Tarea_2/Data/Hotel_Reviews_Lematizado.csv')"
      ],
      "metadata": {
        "colab": {
          "base_uri": "https://localhost:8080/"
        },
        "id": "y9FLTSEodJeM",
        "outputId": "778eb137-69dc-42d4-a77b-430b1ea1eb09"
      },
      "execution_count": 2,
      "outputs": [
        {
          "output_type": "stream",
          "name": "stdout",
          "text": [
            "CPU times: user 9.67 s, sys: 1.07 s, total: 10.7 s\n",
            "Wall time: 11.7 s\n"
          ]
        }
      ]
    },
    {
      "cell_type": "markdown",
      "source": [
        "Analisis de sentimiento usando TextBlob"
      ],
      "metadata": {
        "id": "dAVCXrAh6iFZ"
      }
    },
    {
      "cell_type": "code",
      "source": [
        "from textblob import TextBlob\n",
        "\n",
        "# function to calculate subjectivity \n",
        "def getSubjectivity(review):\n",
        "    return TextBlob(review).sentiment.subjectivity\n",
        "\n",
        "# function to calculate polarity\n",
        "def getPolarity(review):\n",
        "    return TextBlob(review).sentiment.polarity\n",
        "\n",
        "# function to analyze the reviews\n",
        "def analysis(score):\n",
        "    if score < 0:\n",
        "        return 'Negative'\n",
        "    elif score == 0:\n",
        "        return 'Neutral'\n",
        "    else:\n",
        "        return 'Positive'"
      ],
      "metadata": {
        "id": "abFfNqY16Cvo"
      },
      "execution_count": 3,
      "outputs": []
    },
    {
      "cell_type": "code",
      "source": [
        "fin_data = hotel[['Review', 'Lemma']]"
      ],
      "metadata": {
        "id": "OT8I1AcI6qx2"
      },
      "execution_count": 4,
      "outputs": []
    },
    {
      "cell_type": "code",
      "source": [
        "%%time\n",
        "fin_data['Polarity'] = fin_data['Lemma'].apply(getPolarity) \n",
        "fin_data['Analysis'] = fin_data['Polarity'].apply(analysis)\n",
        "fin_data.head()"
      ],
      "metadata": {
        "colab": {
          "base_uri": "https://localhost:8080/"
        },
        "id": "D35JptIO7Psb",
        "outputId": "1754d77d-79f9-4ff6-a4c5-9d9de1f80fe7"
      },
      "execution_count": 5,
      "outputs": [
        {
          "output_type": "stream",
          "name": "stdout",
          "text": [
            "CPU times: user 2min 9s, sys: 473 ms, total: 2min 10s\n",
            "Wall time: 2min 11s\n"
          ]
        }
      ]
    },
    {
      "cell_type": "code",
      "source": [
        "# fin_data.to_csv('/content/drive/MyDrive/Colab Notebooks/Procesamiento_y_Clasificacion_de_Datos/Tarea_2/Data/fin_data.csv',index=False)"
      ],
      "metadata": {
        "id": "TaYJUkP070q-"
      },
      "execution_count": null,
      "outputs": []
    },
    {
      "cell_type": "code",
      "source": [
        "tb_counts = fin_data.Analysis.value_counts()\n",
        "tb_counts"
      ],
      "metadata": {
        "colab": {
          "base_uri": "https://localhost:8080/"
        },
        "id": "oJrb1ctW7-hL",
        "outputId": "7bb10ae6-bd6a-4fc4-f49e-5a72ba4ced9b"
      },
      "execution_count": 6,
      "outputs": [
        {
          "output_type": "execute_result",
          "data": {
            "text/plain": [
              "Positive    418928\n",
              "Negative     70252\n",
              "Neutral      26558\n",
              "Name: Analysis, dtype: int64"
            ]
          },
          "metadata": {},
          "execution_count": 6
        }
      ]
    },
    {
      "cell_type": "code",
      "source": [
        "import matplotlib.pyplot as plt\n",
        "%matplotlib inline\n",
        "\n",
        "tb_count= fin_data.Analysis.value_counts()\n",
        "plt.figure(figsize=(10, 7))\n",
        "plt.pie(tb_counts.values, labels = tb_counts.index, explode = (0, 0, 0.25), autopct='%1.1f%%', shadow=False)"
      ],
      "metadata": {
        "colab": {
          "base_uri": "https://localhost:8080/",
          "height": 567
        },
        "id": "TNwTIbuPhk3z",
        "outputId": "ae34216d-1b0c-45a3-f9c4-384d6a3e6ea5"
      },
      "execution_count": 7,
      "outputs": [
        {
          "output_type": "execute_result",
          "data": {
            "text/plain": [
              "([<matplotlib.patches.Wedge at 0x7f56c203da90>,\n",
              "  <matplotlib.patches.Wedge at 0x7f56c2061450>,\n",
              "  <matplotlib.patches.Wedge at 0x7f56c20b1ad0>],\n",
              " [Text(-0.9142101246531157, 0.6117351125950959, 'Positive'),\n",
              "  Text(0.8037395391961449, -0.7510011671980069, 'Negative'),\n",
              "  Text(1.3323725714185508, -0.21744730610315516, 'Neutral')],\n",
              " [Text(-0.4986600679926085, 0.33367369777914324, '81.2%'),\n",
              "  Text(0.43840338501607906, -0.4096370002898219, '13.6%'),\n",
              "  Text(0.8389012486709393, -0.13691126680569027, '5.1%')])"
            ]
          },
          "metadata": {},
          "execution_count": 7
        },
        {
          "output_type": "display_data",
          "data": {
            "text/plain": [
              "<Figure size 720x504 with 1 Axes>"
            ],
            "image/png": "[encoded data removed]"
          },
          "metadata": {}
        }
      ]
    },
    {
      "cell_type": "markdown",
      "source": [
        "Analisis de sentimiento usando VADER"
      ],
      "metadata": {
        "id": "C65iWsTdhuTL"
      }
    },
    {
      "cell_type": "code",
      "source": [
        "!pip install vaderSentiment"
      ],
      "metadata": {
        "colab": {
          "base_uri": "https://localhost:8080/"
        },
        "id": "8lI20CGbh6mG",
        "outputId": "99d96235-6ea4-4982-9ab8-892ba8e815b6"
      },
      "execution_count": 8,
      "outputs": [
        {
          "output_type": "stream",
          "name": "stdout",
          "text": [
            "Looking in indexes: https://pypi.org/simple, https://us-python.pkg.dev/colab-wheels/public/simple/\n",
            "Collecting vaderSentiment\n",
            "  Downloading vaderSentiment-3.3.2-py2.py3-none-any.whl (125 kB)\n",
            "\u001b[K     |████████████████████████████████| 125 kB 17.4 MB/s \n",
            "\u001b[?25hRequirement already satisfied: requests in /usr/local/lib/python3.7/dist-packages (from vaderSentiment) (2.23.0)\n",
            "Requirement already satisfied: urllib3!=1.25.0,!=1.25.1,<1.26,>=1.21.1 in /usr/local/lib/python3.7/dist-packages (from requests->vaderSentiment) (1.24.3)\n",
            "Requirement already satisfied: chardet<4,>=3.0.2 in /usr/local/lib/python3.7/dist-packages (from requests->vaderSentiment) (3.0.4)\n",
            "Requirement already satisfied: certifi>=2017.4.17 in /usr/local/lib/python3.7/dist-packages (from requests->vaderSentiment) (2022.5.18.1)\n",
            "Requirement already satisfied: idna<3,>=2.5 in /usr/local/lib/python3.7/dist-packages (from requests->vaderSentiment) (2.10)\n",
            "Installing collected packages: vaderSentiment\n",
            "Successfully installed vaderSentiment-3.3.2\n"
          ]
        }
      ]
    },
    {
      "cell_type": "code",
      "source": [
        "from vaderSentiment.vaderSentiment import SentimentIntensityAnalyzer"
      ],
      "metadata": {
        "id": "47EbVa65is0g"
      },
      "execution_count": 9,
      "outputs": []
    },
    {
      "cell_type": "code",
      "source": [
        "%%time\n",
        "analyzer = SentimentIntensityAnalyzer()\n",
        "# function to calculate vader sentiment  \n",
        "def vadersentimentanalysis(review):\n",
        "    vs = analyzer.polarity_scores(review)\n",
        "    return vs['compound']\n",
        "fin_data['Vader Sentiment'] = fin_data['Lemma'].apply(vadersentimentanalysis)"
      ],
      "metadata": {
        "colab": {
          "base_uri": "https://localhost:8080/"
        },
        "id": "2zW2rc7jiera",
        "outputId": "e9831a8b-ed62-4ca4-eddc-c94e1486ccaa"
      },
      "execution_count": 10,
      "outputs": [
        {
          "output_type": "stream",
          "name": "stdout",
          "text": [
            "CPU times: user 2min 19s, sys: 386 ms, total: 2min 19s\n",
            "Wall time: 2min 29s\n"
          ]
        }
      ]
    },
    {
      "cell_type": "code",
      "source": [
        "%%time\n",
        "def vader_analysis(compound):\n",
        "    if compound >= 0.5:\n",
        "        return 'Positive'\n",
        "    elif compound <= -0.5 :\n",
        "        return 'Negative'\n",
        "    else:\n",
        "        return 'Neutral'\n",
        "    \n",
        "fin_data['Vader Analysis'] = fin_data['Vader Sentiment'].apply(vader_analysis)\n",
        "fin_data.head()"
      ],
      "metadata": {
        "colab": {
          "base_uri": "https://localhost:8080/"
        },
        "id": "qBteMYUpixl2",
        "outputId": "0a4dd779-81ad-43cf-f70a-85de1e10b691"
      },
      "execution_count": 11,
      "outputs": [
        {
          "output_type": "stream",
          "name": "stdout",
          "text": [
            "CPU times: user 186 ms, sys: 1.02 ms, total: 187 ms\n",
            "Wall time: 206 ms\n"
          ]
        }
      ]
    },
    {
      "cell_type": "code",
      "source": [
        "vader_counts = fin_data['Vader Analysis'].value_counts()\n",
        "vader_counts"
      ],
      "metadata": {
        "colab": {
          "base_uri": "https://localhost:8080/"
        },
        "id": "EXGpAnVYi87M",
        "outputId": "833cc9a9-5b2c-449d-c9ed-4d4cd6355272"
      },
      "execution_count": 12,
      "outputs": [
        {
          "output_type": "execute_result",
          "data": {
            "text/plain": [
              "Positive    318523\n",
              "Neutral     167611\n",
              "Negative     29604\n",
              "Name: Vader Analysis, dtype: int64"
            ]
          },
          "metadata": {},
          "execution_count": 12
        }
      ]
    },
    {
      "cell_type": "code",
      "source": [
        "vader_counts= fin_data['Vader Analysis'].value_counts()\n",
        "plt.figure(figsize=(10, 7))\n",
        "plt.pie(vader_counts.values, labels = vader_counts.index, explode = (0.1, 0, 0), autopct='%1.1f%%', shadow=False)\n",
        "# plt.legend()"
      ],
      "metadata": {
        "colab": {
          "base_uri": "https://localhost:8080/",
          "height": 567
        },
        "id": "QGlCA_9qi9nX",
        "outputId": "4c1b6e89-8fcc-446a-9604-a91c6ce2fa37"
      },
      "execution_count": 13,
      "outputs": [
        {
          "output_type": "execute_result",
          "data": {
            "text/plain": [
              "([<matplotlib.patches.Wedge at 0x7f56c20594d0>,\n",
              "  <matplotlib.patches.Wedge at 0x7f56c226b1d0>,\n",
              "  <matplotlib.patches.Wedge at 0x7f56c2261a10>],\n",
              " [Text(-0.4333464428541599, 1.1190222788066584, 'Positive'),\n",
              "  Text(0.20681522564275112, -1.0803830165466033, 'Neutral'),\n",
              "  Text(1.0821627562669651, -0.19729107670821114, 'Negative')],\n",
              " [Text(-0.2527854249982599, 0.6527629959705505, '61.8%'),\n",
              "  Text(0.11280830489604605, -0.5892998272072382, '32.5%'),\n",
              "  Text(0.5902705943274354, -0.10761331456811517, '5.7%')])"
            ]
          },
          "metadata": {},
          "execution_count": 13
        },
        {
          "output_type": "display_data",
          "data": {
            "text/plain": [
              "<Figure size 720x504 with 1 Axes>"
            ],
            "image/png": "[encoded data removed]"
          },
          "metadata": {}
        }
      ]
    },
    {
      "cell_type": "markdown",
      "source": [
        "Analisis using SentiWordNet"
      ],
      "metadata": {
        "id": "N90lFMuDjGCM"
      }
    },
    {
      "cell_type": "code",
      "source": [
        "nltk.download('sentiwordnet')"
      ],
      "metadata": {
        "colab": {
          "base_uri": "https://localhost:8080/"
        },
        "id": "jvm9oDaBjUsm",
        "outputId": "a39181c4-8222-4a6f-abee-ecc04bab0940"
      },
      "execution_count": 14,
      "outputs": [
        {
          "output_type": "stream",
          "name": "stdout",
          "text": [
            "[nltk_data] Downloading package sentiwordnet to /root/nltk_data...\n",
            "[nltk_data]   Unzipping corpora/sentiwordnet.zip.\n"
          ]
        },
        {
          "output_type": "execute_result",
          "data": {
            "text/plain": [
              "True"
            ]
          },
          "metadata": {},
          "execution_count": 14
        }
      ]
    },
    {
      "cell_type": "code",
      "source": [
        ""
      ],
      "metadata": {
        "id": "It7g3z4Mpsnz"
      },
      "execution_count": null,
      "outputs": []
    },
    {
      "cell_type": "code",
      "source": [
        "%%time\n",
        "from nltk.corpus import sentiwordnet as swn\n",
        "\n",
        "def sentiwordnetanalysis(pos_data):\n",
        "    sentiment = 0\n",
        "    tokens_count = 0\n",
        "    for word, pos in pos_data:\n",
        "        if not pos:\n",
        "            continue\n",
        "        lemma = wordnet_lemmatizer.lemmatize(word, pos=pos)\n",
        "        if not lemma:\n",
        "            continue\n",
        "        \n",
        "        synsets = wordnet.synsets(lemma, pos=pos)\n",
        "        if not synsets:\n",
        "            continue\n",
        "\n",
        "        # Take the first sense, the most common\n",
        "        synset = synsets[0]\n",
        "        swn_synset = swn.senti_synset(synset.name())\n",
        "        sentiment += swn_synset.pos_score() - swn_synset.neg_score()\n",
        "        tokens_count += 1\n",
        "        # print(swn_synset.pos_score(),swn_synset.neg_score(),swn_synset.obj_score())\n",
        "    if not tokens_count:\n",
        "        return 0\n",
        "    if sentiment>0:\n",
        "        return \"Positive\"\n",
        "    if sentiment==0:\n",
        "        return \"Neutral\"\n",
        "    else:\n",
        "        return \"Negative\""
      ],
      "metadata": {
        "colab": {
          "base_uri": "https://localhost:8080/"
        },
        "id": "ZxfmMeoXjOBh",
        "outputId": "867037cc-81a3-4ac0-edfb-865628510c0b"
      },
      "execution_count": 19,
      "outputs": [
        {
          "output_type": "stream",
          "name": "stdout",
          "text": [
            "CPU times: user 27 µs, sys: 0 ns, total: 27 µs\n",
            "Wall time: 34.3 µs\n"
          ]
        }
      ]
    },
    {
      "cell_type": "code",
      "source": [
        "import ast"
      ],
      "metadata": {
        "id": "h7xxHlfNsGeC"
      },
      "execution_count": 30,
      "outputs": []
    },
    {
      "cell_type": "code",
      "source": [
        "%%time\n",
        "hotel['POS tagged']=hotel['POS tagged'].apply(ast.literal_eval)"
      ],
      "metadata": {
        "colab": {
          "base_uri": "https://localhost:8080/"
        },
        "id": "gSq-HqiMp9Am",
        "outputId": "8423c881-827c-4e38-a79f-39acdd252afc"
      },
      "execution_count": 32,
      "outputs": [
        {
          "output_type": "stream",
          "name": "stdout",
          "text": [
            "CPU times: user 58.8 s, sys: 3.18 s, total: 1min 1s\n",
            "Wall time: 1min 2s\n"
          ]
        }
      ]
    },
    {
      "cell_type": "code",
      "source": [
        "%%time\n",
        "fin_data['SWN analysis'] = hotel['POS tagged'].apply(sentiwordnetanalysis)\n",
        "fin_data.head()"
      ],
      "metadata": {
        "colab": {
          "base_uri": "https://localhost:8080/"
        },
        "id": "JtZ6JenYprof",
        "outputId": "7c73663f-8202-4b0d-a89c-1e3efdbf303b"
      },
      "execution_count": 37,
      "outputs": [
        {
          "output_type": "stream",
          "name": "stdout",
          "text": [
            "CPU times: user 3min 21s, sys: 1.75 s, total: 3min 22s\n",
            "Wall time: 3min 24s\n"
          ]
        }
      ]
    },
    {
      "cell_type": "code",
      "source": [
        "swn_counts= fin_data['SWN analysis'].value_counts()\n",
        "swn_counts"
      ],
      "metadata": {
        "colab": {
          "base_uri": "https://localhost:8080/"
        },
        "id": "Hns5W0p7jZ3X",
        "outputId": "972f0d65-fd14-4537-a2f6-cb128b26e45a"
      },
      "execution_count": 38,
      "outputs": [
        {
          "output_type": "execute_result",
          "data": {
            "text/plain": [
              "Positive    307308\n",
              "Negative    157055\n",
              "Neutral      49589\n",
              "0             1786\n",
              "Name: SWN analysis, dtype: int64"
            ]
          },
          "metadata": {},
          "execution_count": 38
        }
      ]
    },
    {
      "cell_type": "code",
      "source": [
        "swn_counts= fin_data['SWN analysis'].value_counts()\n",
        "plt.figure(figsize=(10, 7))\n",
        "plt.pie(swn_counts.values, labels = swn_counts.index, explode = (0.1, 0, 0,0), autopct='%1.1f%%', shadow=False)"
      ],
      "metadata": {
        "colab": {
          "base_uri": "https://localhost:8080/",
          "height": 619
        },
        "id": "ZEEr0A4Kv8Zs",
        "outputId": "9c13d3fb-dbc1-425c-fbe2-2f5e25461cc4"
      },
      "execution_count": 40,
      "outputs": [
        {
          "output_type": "execute_result",
          "data": {
            "text/plain": [
              "([<matplotlib.patches.Wedge at 0x7f565b79cc50>,\n",
              "  <matplotlib.patches.Wedge at 0x7f565b7ab610>,\n",
              "  <matplotlib.patches.Wedge at 0x7f565b7abd90>,\n",
              "  <matplotlib.patches.Wedge at 0x7f565b7346d0>],\n",
              " [Text(-0.35594827423454134, 1.145993379592331, 'Positive'),\n",
              "  Text(-0.012972248251022132, -1.0999235067836828, 'Negative'),\n",
              "  Text(1.042826805594836, -0.35001750460922704, 'Neutral'),\n",
              "  Text(1.0999349003806236, -0.011967243820854588, '0')],\n",
              " [Text(-0.2076364933034824, 0.6684961380955262, '59.6%'),\n",
              "  Text(-0.007075771773284799, -0.5999582764274632, '30.5%'),\n",
              "  Text(0.5688146212335469, -0.19091863887776017, '9.6%'),\n",
              "  Text(0.5999644911167037, -0.006527587538647957, '0.3%')])"
            ]
          },
          "metadata": {},
          "execution_count": 40
        },
        {
          "output_type": "display_data",
          "data": {
            "text/plain": [
              "<Figure size 720x504 with 1 Axes>"
            ],
            "image/png": "[encoded data removed]"
          },
          "metadata": {}
        }
      ]
    },
    {
      "cell_type": "code",
      "source": [
        "import matplotlib.pyplot as plt\n",
        "%matplotlib inline\n",
        "\n",
        "plt.figure(figsize=(15,7))\n",
        "plt.subplot(1,3,1)\n",
        "plt.title(\"TextBlob results\")\n",
        "plt.pie(tb_counts.values, labels = tb_counts.index, explode = (0, 0, 0.25), autopct='%1.1f%%', shadow=False)\n",
        "plt.subplot(1,3,2)\n",
        "plt.title(\"VADER results\")\n",
        "plt.pie(vader_counts.values, labels = vader_counts.index, explode = (0, 0, 0.25), autopct='%1.1f%%', shadow=False)\n",
        "plt.subplot(1,3,3)\n",
        "plt.title(\"SentiWordNet results\")\n",
        "plt.pie(swn_counts.values, labels = swn_counts.index, explode = (0, 0, 0.25,0), autopct='%1.1f%%', shadow=False)"
      ],
      "metadata": {
        "colab": {
          "base_uri": "https://localhost:8080/",
          "height": 501
        },
        "id": "Q79V9U4Hwe1a",
        "outputId": "a9b9f8b0-85ae-4810-e08b-e873c5343887"
      },
      "execution_count": 41,
      "outputs": [
        {
          "output_type": "execute_result",
          "data": {
            "text/plain": [
              "([<matplotlib.patches.Wedge at 0x7f565b6aa3d0>,\n",
              "  <matplotlib.patches.Wedge at 0x7f565b6aaa10>,\n",
              "  <matplotlib.patches.Wedge at 0x7f565b6362d0>,\n",
              "  <matplotlib.patches.Wedge at 0x7f565b636bd0>],\n",
              " [Text(-0.32628591804832957, 1.05049393129297, 'Positive'),\n",
              "  Text(-0.012972248251022132, -1.0999235067836828, 'Negative'),\n",
              "  Text(1.2798328977754805, -0.42956693747496044, 'Neutral'),\n",
              "  Text(1.0999349003806236, -0.011967243820854588, '0')],\n",
              " [Text(-0.17797413711727064, 0.5729966897961654, '59.6%'),\n",
              "  Text(-0.007075771773284799, -0.5999582764274632, '30.5%'),\n",
              "  Text(0.8058207134141914, -0.2704680717434936, '9.6%'),\n",
              "  Text(0.5999644911167037, -0.006527587538647957, '0.3%')])"
            ]
          },
          "metadata": {},
          "execution_count": 41
        },
        {
          "output_type": "display_data",
          "data": {
            "text/plain": [
              "<Figure size 1080x504 with 3 Axes>"
            ],
            "image/png": "[encoded data removed]"
          },
          "metadata": {}
        }
      ]
    },
    {
      "cell_type": "markdown",
      "source": [
        "# Analisis de sentimiento con sklearn"
      ],
      "metadata": {
        "id": "4raWA3kqy8xZ"
      }
    },
    {
      "cell_type": "markdown",
      "source": [
        "### Creamos nuestra variable respuesta en donde\n",
        "\n",
        "1.   <=6 será negativo\n",
        "2.   \\>6 y <=8 será neutral\n",
        "3.   \\>8 y será positivo\n",
        "\n"
      ],
      "metadata": {
        "id": "5KARzRx73-QD"
      }
    },
    {
      "cell_type": "code",
      "source": [
        "hotel['sentimiento']=np.where(hotel['Reviewer_Score']<=6,0,np.where(hotel['Reviewer_Score']<=8,1,2))"
      ],
      "metadata": {
        "id": "o1cVrNQc4jue"
      },
      "execution_count": 3,
      "outputs": []
    },
    {
      "cell_type": "code",
      "source": [
        "hotel.sentimiento.value_counts().plot(kind='pie', autopct='%1.0f%%')"
      ],
      "metadata": {
        "colab": {
          "base_uri": "https://localhost:8080/",
          "height": 265
        },
        "id": "-lBEb5Dj2wpg",
        "outputId": "0374e804-254d-4970-cf01-60fdae123ebc"
      },
      "execution_count": 4,
      "outputs": [
        {
          "output_type": "execute_result",
          "data": {
            "text/plain": [
              "<matplotlib.axes._subplots.AxesSubplot at 0x7efdfdc00190>"
            ]
          },
          "metadata": {},
          "execution_count": 4
        },
        {
          "output_type": "display_data",
          "data": {
            "text/plain": [
              "<Figure size 432x288 with 1 Axes>"
            ],
            "image/png": "[encoded data removed]"
          },
          "metadata": {}
        }
      ]
    },
    {
      "cell_type": "code",
      "source": [
        "features = hotel['Review'].values\n",
        "labels = hotel['sentimiento'].values"
      ],
      "metadata": {
        "id": "esN5Upru5g9m"
      },
      "execution_count": 4,
      "outputs": []
    },
    {
      "cell_type": "code",
      "source": [
        "%%time\n",
        "processed_features = []\n",
        "\n",
        "for sentence in range(0, len(features)):\n",
        "    # Remove all the special characters\n",
        "    processed_feature = re.sub(r'\\W', ' ', str(features[sentence]))\n",
        "    # remove all single characters\n",
        "    processed_feature= re.sub(r'\\s+[a-zA-Z]\\s+', ' ', processed_feature)\n",
        "    # Remove single characters from the start\n",
        "    processed_feature = re.sub(r'\\^[a-zA-Z]\\s+', ' ', processed_feature) \n",
        "    # Substituting multiple spaces with single space\n",
        "    processed_feature = re.sub(r'\\s+', ' ', processed_feature, flags=re.I)\n",
        "    # Removing prefixed 'b'\n",
        "    processed_feature = re.sub(r'^b\\s+', '', processed_feature)\n",
        "    # Converting to Lowercase\n",
        "    processed_feature = processed_feature.lower()\n",
        "\n",
        "    processed_features.append(processed_feature)"
      ],
      "metadata": {
        "colab": {
          "base_uri": "https://localhost:8080/"
        },
        "id": "xo47-2Lt-Fyw",
        "outputId": "b5861b4b-dda8-4164-a301-0ced7bdc09cf"
      },
      "execution_count": 9,
      "outputs": [
        {
          "output_type": "stream",
          "name": "stdout",
          "text": [
            "CPU times: user 18 s, sys: 198 ms, total: 18.2 s\n",
            "Wall time: 18.2 s\n"
          ]
        }
      ]
    },
    {
      "cell_type": "code",
      "source": [
        "%%time\n",
        "from nltk.corpus import stopwords\n",
        "from sklearn.feature_extraction.text import TfidfVectorizer\n",
        "\n",
        "vectorizer = TfidfVectorizer (max_features=100, min_df=7, max_df=0.8, stop_words=stopwords.words('english'))\n",
        "processed_features = vectorizer.fit_transform(processed_features).toarray()"
      ],
      "metadata": {
        "colab": {
          "base_uri": "https://localhost:8080/"
        },
        "id": "xIiFRqrH-M-a",
        "outputId": "353fdbd7-4619-4efc-cbc2-561540d8b45c"
      },
      "execution_count": 10,
      "outputs": [
        {
          "output_type": "stream",
          "name": "stdout",
          "text": [
            "CPU times: user 13.5 s, sys: 359 ms, total: 13.9 s\n",
            "Wall time: 14 s\n"
          ]
        }
      ]
    },
    {
      "cell_type": "code",
      "source": [
        "from sklearn.model_selection import train_test_split\n",
        "\n",
        "X_train, X_test, y_train, y_test = train_test_split(processed_features, labels, test_size=0.2, random_state=0)"
      ],
      "metadata": {
        "id": "sZ-WcqQP-Sbl"
      },
      "execution_count": 11,
      "outputs": []
    },
    {
      "cell_type": "code",
      "source": [
        "from sklearn.ensemble import RandomForestClassifier\n",
        "\n",
        "text_classifier = RandomForestClassifier(n_estimators=200, random_state=0)\n",
        "text_classifier.fit(X_train, y_train)"
      ],
      "metadata": {
        "colab": {
          "base_uri": "https://localhost:8080/"
        },
        "id": "XjtSF7GOAMc4",
        "outputId": "ee165bd3-82fe-471a-8d68-e74cea130871"
      },
      "execution_count": 12,
      "outputs": [
        {
          "output_type": "execute_result",
          "data": {
            "text/plain": [
              "RandomForestClassifier(n_estimators=200, random_state=0)"
            ]
          },
          "metadata": {},
          "execution_count": 12
        }
      ]
    },
    {
      "cell_type": "code",
      "source": [
        "from sklearn.metrics import classification_report, confusion_matrix, accuracy_score"
      ],
      "metadata": {
        "id": "vVvOugHaB3hB"
      },
      "execution_count": 13,
      "outputs": []
    },
    {
      "cell_type": "markdown",
      "source": [
        "Resultados Train"
      ],
      "metadata": {
        "id": "x8fVPm03B16L"
      }
    },
    {
      "cell_type": "code",
      "source": [
        "print(confusion_matrix(y_train,text_classifier.predict(X_train),normalize='true'))\n",
        "print(classification_report(y_train,text_classifier.predict(X_train)))\n",
        "print(accuracy_score(y_train, text_classifier.predict(X_train)))"
      ],
      "metadata": {
        "colab": {
          "base_uri": "https://localhost:8080/"
        },
        "id": "N-8gUXjbCBjz",
        "outputId": "1f3781a4-54b9-4630-f41f-186eb8b07039"
      },
      "execution_count": 17,
      "outputs": [
        {
          "output_type": "stream",
          "name": "stdout",
          "text": [
            "[[0.81180934 0.07977235 0.10841831]\n",
            " [0.01019661 0.84533193 0.14447147]\n",
            " [0.00280936 0.02247484 0.9747158 ]]\n",
            "              precision    recall  f1-score   support\n",
            "\n",
            "           0       0.95      0.81      0.88     42170\n",
            "           1       0.90      0.85      0.87    102387\n",
            "           2       0.93      0.97      0.95    268033\n",
            "\n",
            "    accuracy                           0.93    412590\n",
            "   macro avg       0.93      0.88      0.90    412590\n",
            "weighted avg       0.93      0.93      0.92    412590\n",
            "\n",
            "0.9259579728059333\n"
          ]
        }
      ]
    },
    {
      "cell_type": "markdown",
      "source": [
        "Resultados Test"
      ],
      "metadata": {
        "id": "fMjGyVnZBz-X"
      }
    },
    {
      "cell_type": "code",
      "source": [
        "print(confusion_matrix(y_test,text_classifier.predict(X_test),normalize='true'))\n",
        "print(classification_report(y_test,text_classifier.predict(X_test)))\n",
        "print(accuracy_score(y_test, text_classifier.predict(X_test)))"
      ],
      "metadata": {
        "colab": {
          "base_uri": "https://localhost:8080/"
        },
        "id": "Y2A-rbHABsYF",
        "outputId": "b6faf67d-f48a-41f5-c42b-6273eaff4730"
      },
      "execution_count": 18,
      "outputs": [
        {
          "output_type": "stream",
          "name": "stdout",
          "text": [
            "[[0.26147309 0.35174693 0.38677998]\n",
            " [0.06491159 0.28817289 0.64691552]\n",
            " [0.01271085 0.0880521  0.89923705]]\n",
            "              precision    recall  f1-score   support\n",
            "\n",
            "           0       0.53      0.26      0.35     10590\n",
            "           1       0.43      0.29      0.35     25450\n",
            "           2       0.75      0.90      0.82     67108\n",
            "\n",
            "    accuracy                           0.68    103148\n",
            "   macro avg       0.57      0.48      0.50    103148\n",
            "weighted avg       0.65      0.68      0.65    103148\n",
            "\n",
            "0.6829894908287122\n"
          ]
        }
      ]
    },
    {
      "cell_type": "code",
      "source": [
        ""
      ],
      "metadata": {
        "id": "juZlV65TCX7j"
      },
      "execution_count": null,
      "outputs": []
    }
  ]
}
