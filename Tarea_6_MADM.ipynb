{
  "nbformat": 4,
  "nbformat_minor": 0,
  "metadata": {
    "colab": {
      "name": "Tarea_6_MADM.ipynb",
      "provenance": []
    },
    "kernelspec": {
      "name": "python3",
      "display_name": "Python 3"
    },
    "language_info": {
      "name": "python"
    }
  },
  "cells": [
    {
      "cell_type": "markdown",
      "source": [
        "## Miguel Angel Domínguez Mendoza"
      ],
      "metadata": {
        "id": "1nmZfdLBO23a"
      }
    },
    {
      "cell_type": "markdown",
      "source": [
        "Importamos las librerias necesarias"
      ],
      "metadata": {
        "id": "n_Zhiz5-O5Fw"
      }
    },
    {
      "cell_type": "code",
      "execution_count": null,
      "metadata": {
        "id": "e9xyKHk-OqnX"
      },
      "outputs": [],
      "source": [
        "import numpy as np\n",
        "import matplotlib.pyplot as plt\n",
        "import matplotlib.image as mpimg\n",
        "import string\n",
        "import os\n",
        "import tensorflow as tf\n",
        "from tensorflow.keras.preprocessing.image import ImageDataGenerator\n",
        "from tensorflow.keras.optimizers import RMSprop,Adam\n",
        "import pandas as pd\n",
        "%matplotlib inline"
      ]
    },
    {
      "cell_type": "markdown",
      "source": [
        "Para este experimiento utilizaremos aumento de datos y la arquitectura de la alex net para comparar los resultados."
      ],
      "metadata": {
        "id": "ZjE426G3TajU"
      }
    },
    {
      "cell_type": "markdown",
      "source": [
        "### Aumento de datos"
      ],
      "metadata": {
        "id": "r4uItqvRQ3sM"
      }
    },
    {
      "cell_type": "markdown",
      "source": [
        "Para el aumento de datos se utilizaran las siguiente técnicas:\n",
        "\n",
        "\n",
        "1.   Ángulo de rotación de hasta 20 grados\n",
        "2.   Rango para ajuste de ancho de hasta 20%\n",
        "3.   Rango para ajuste de altura de hasta 20%\n",
        "4.   Rango para ajuste de ejes posicionales X,Y,Z de hasta 20%\n",
        "5.   Rango para acercamiento de altura de hasta 20%\n",
        "6.   Volteo horizantal\n",
        "\n"
      ],
      "metadata": {
        "id": "3Wa2Kq4GUV0M"
      }
    },
    {
      "cell_type": "code",
      "source": [
        "train_datagen = ImageDataGenerator(validation_split=0.2,\n",
        "        rotation_range=20,\n",
        "        width_shift_range=0.2,\n",
        "        height_shift_range=0.2,\n",
        "        shear_range=0.2,\n",
        "        zoom_range=0.2,\n",
        "        horizontal_flip=True,\n",
        "        fill_mode='nearest',rescale = 1/255)\n",
        "test_datagen = ImageDataGenerator(rotation_range=20,\n",
        "        width_shift_range=0.2,\n",
        "        height_shift_range=0.2,\n",
        "        shear_range=0.2,\n",
        "        zoom_range=0.2,\n",
        "        horizontal_flip=True,\n",
        "        fill_mode='nearest',rescale = 1/255)"
      ],
      "metadata": {
        "id": "OlLJmX_aQomU"
      },
      "execution_count": null,
      "outputs": []
    },
    {
      "cell_type": "code",
      "source": [
        "train_generator = train_datagen.flow_from_directory(\n",
        "    '/content/drive/MyDrive/Colab Notebooks/Procesamiento_y_Clasificacion_de_Datos/Tarea_6/hand_sing_dataset/Train',\n",
        "    target_size = (28, 28),\n",
        "    batch_size = 128,\n",
        "    class_mode = \"sparse\",\n",
        "    color_mode='grayscale',\n",
        "    subset = 'training'\n",
        "    )\n",
        "\n",
        "validation_generator = train_datagen.flow_from_directory(\n",
        "    '/content/drive/MyDrive/Colab Notebooks/Procesamiento_y_Clasificacion_de_Datos/Tarea_6/hand_sing_dataset/Train',\n",
        "    target_size = (28, 28),\n",
        "    batch_size = 128,\n",
        "    class_mode = \"sparse\",\n",
        "    color_mode='grayscale',\n",
        "    subset = 'validation'\n",
        "    )\n",
        "\n",
        "test_generator = test_datagen.flow_from_directory(\n",
        "    '/content/drive/MyDrive/Colab Notebooks/Procesamiento_y_Clasificacion_de_Datos/Tarea_6/hand_sing_dataset/Test',\n",
        "    target_size = (28, 28),\n",
        "    batch_size = 128,\n",
        "    class_mode = \"sparse\",\n",
        "    color_mode='grayscale'\n",
        "    )"
      ],
      "metadata": {
        "colab": {
          "base_uri": "https://localhost:8080/"
        },
        "id": "aS9GQ_lgSB5c",
        "outputId": "6e3bfdbd-c503-4555-d438-6b989d66eafe"
      },
      "execution_count": null,
      "outputs": [
        {
          "output_type": "stream",
          "name": "stdout",
          "text": [
            "Found 15305 images belonging to 24 classes.\n",
            "Found 3818 images belonging to 24 classes.\n",
            "Found 7172 images belonging to 24 classes.\n"
          ]
        }
      ]
    },
    {
      "cell_type": "code",
      "source": [
        "classes = [char for char in string.ascii_uppercase]\n",
        "print(classes, end = \" \")"
      ],
      "metadata": {
        "colab": {
          "base_uri": "https://localhost:8080/"
        },
        "id": "cBWcM4wgSnDw",
        "outputId": "efe5cd97-caf9-4de0-ab0f-2d1e6bed8f83"
      },
      "execution_count": null,
      "outputs": [
        {
          "output_type": "stream",
          "name": "stdout",
          "text": [
            "['A', 'B', 'C', 'D', 'E', 'F', 'G', 'H', 'I', 'J', 'K', 'L', 'M', 'N', 'O', 'P', 'Q', 'R', 'S', 'T', 'U', 'V', 'W', 'X', 'Y', 'Z'] "
          ]
        }
      ]
    },
    {
      "cell_type": "code",
      "source": [
        "def plotImages(images_arr):\n",
        "    fig, axes = plt.subplots(1, 5, figsize=(10,10))\n",
        "    axes = axes.flatten()\n",
        "    for img, ax in zip( images_arr, axes):\n",
        "        ax.imshow(img[:,:,0])\n",
        "        ax.axis('off')\n",
        "    plt.tight_layout()\n",
        "    plt.show()"
      ],
      "metadata": {
        "id": "1uSSXDQ6Sxoa"
      },
      "execution_count": null,
      "outputs": []
    },
    {
      "cell_type": "code",
      "source": [
        "sample_training_images, _ = next(train_generator)\n",
        "plotImages(sample_training_images[:5])"
      ],
      "metadata": {
        "colab": {
          "base_uri": "https://localhost:8080/",
          "height": 162
        },
        "id": "NW02cqX0S1xJ",
        "outputId": "e16a1e82-d6b0-4474-d982-c8048504bdad"
      },
      "execution_count": null,
      "outputs": [
        {
          "output_type": "display_data",
          "data": {
            "text/plain": [
              "<Figure size 720x720 with 5 Axes>"
            ],
            "image/png": "[encoded data removed]"
          },
          "metadata": {
            "needs_background": "light"
          }
        }
      ]
    },
    {
      "cell_type": "markdown",
      "source": [
        "# Definimos la siguiente arquitectura\n",
        "\n",
        "\n",
        "1.   Capa de 64 neuronas con un filtro de 3x3 activación ReLU\n",
        "2.   Maxpooling de tamaño 2x2\n",
        "3.   Capa de aplanamiento\n",
        "4.   Capa de 256 neuronas\n",
        "5.   Capa de 256 neuronas\n",
        "6.   Capa de salida softmax de tamaño 26 (una neurona por cada letra)\n",
        "\n",
        "\n",
        "\n",
        "\n",
        "\n"
      ],
      "metadata": {
        "id": "ZozLuSOoUsBD"
      }
    },
    {
      "cell_type": "code",
      "source": [
        "model = tf.keras.models.Sequential([\n",
        "        tf.keras.layers.Conv2D(128, (3,3), activation = \"relu\", input_shape = (28,28,1)),\n",
        "        tf.keras.layers.MaxPool2D((2,2)),\n",
        "        tf.keras.layers.Conv2D(64, (3,3), activation = \"relu\"),\n",
        "        tf.keras.layers.MaxPool2D((2,2)),\n",
        "        tf.keras.layers.Conv2D(128, (3,3), activation = \"relu\"),\n",
        "        tf.keras.layers.MaxPool2D((2,2)),\n",
        "        tf.keras.layers.Flatten(),\n",
        "        tf.keras.layers.Dense(256, activation = \"relu\"),\n",
        "        tf.keras.layers.Dense(256, activation = \"relu\"),\n",
        "        tf.keras.layers.Flatten(),\n",
        "        tf.keras.layers.Dense(len(classes), activation = \"softmax\")\n",
        "])"
      ],
      "metadata": {
        "id": "lrVDLSa5S5xx"
      },
      "execution_count": null,
      "outputs": []
    },
    {
      "cell_type": "code",
      "source": [
        "model.summary()"
      ],
      "metadata": {
        "colab": {
          "base_uri": "https://localhost:8080/"
        },
        "id": "l4mBoT5BWpp1",
        "outputId": "911ba9b6-1b0a-4810-ce34-05824194ad0a"
      },
      "execution_count": null,
      "outputs": [
        {
          "output_type": "stream",
          "name": "stdout",
          "text": [
            "Model: \"sequential\"\n",
            "_________________________________________________________________\n",
            " Layer (type)                Output Shape              Param #   \n",
            "=================================================================\n",
            " conv2d (Conv2D)             (None, 26, 26, 128)       1280      \n",
            "                                                                 \n",
            " max_pooling2d (MaxPooling2D  (None, 13, 13, 128)      0         \n",
            " )                                                               \n",
            "                                                                 \n",
            " conv2d_1 (Conv2D)           (None, 11, 11, 64)        73792     \n",
            "                                                                 \n",
            " max_pooling2d_1 (MaxPooling  (None, 5, 5, 64)         0         \n",
            " 2D)                                                             \n",
            "                                                                 \n",
            " conv2d_2 (Conv2D)           (None, 3, 3, 128)         73856     \n",
            "                                                                 \n",
            " max_pooling2d_2 (MaxPooling  (None, 1, 1, 128)        0         \n",
            " 2D)                                                             \n",
            "                                                                 \n",
            " flatten (Flatten)           (None, 128)               0         \n",
            "                                                                 \n",
            " dense (Dense)               (None, 256)               33024     \n",
            "                                                                 \n",
            " dense_1 (Dense)             (None, 256)               65792     \n",
            "                                                                 \n",
            " flatten_1 (Flatten)         (None, 256)               0         \n",
            "                                                                 \n",
            " dense_2 (Dense)             (None, 26)                6682      \n",
            "                                                                 \n",
            "=================================================================\n",
            "Total params: 254,426\n",
            "Trainable params: 254,426\n",
            "Non-trainable params: 0\n",
            "_________________________________________________________________\n"
          ]
        }
      ]
    },
    {
      "cell_type": "markdown",
      "source": [
        "Definimos la siguiente función de paro, en caso de que en alguna de las épocas alcance una asertividad mayor de 99.4 en ese momento detenga."
      ],
      "metadata": {
        "id": "pVpn65p1XrSc"
      }
    },
    {
      "cell_type": "code",
      "source": [
        "class myCallback(tf.keras.callbacks.Callback):\n",
        "    def on_epoch_end(self, epoch, logs = {}):\n",
        "        if logs.get(\"loss\") < 0.004:\n",
        "            print(\"\\nAlcanzó el 99.6% de asertividad por lo que se cancela el entrenamiento!\")\n",
        "            self.model.stop_training = True\n",
        "\n",
        "callback = myCallback()"
      ],
      "metadata": {
        "id": "rRYDaiLoXChT"
      },
      "execution_count": null,
      "outputs": []
    },
    {
      "cell_type": "code",
      "source": [
        "model.compile(\n",
        "    optimizer = RMSprop(learning_rate = 0.001),\n",
        "    loss=\"sparse_categorical_crossentropy\",\n",
        "    metrics = [\"accuracy\"]\n",
        ")"
      ],
      "metadata": {
        "id": "ASE42n9jXivb"
      },
      "execution_count": null,
      "outputs": []
    },
    {
      "cell_type": "code",
      "source": [
        "history = model.fit(\n",
        "    train_generator,\n",
        "    epochs=10,\n",
        "    callbacks = [callback],\n",
        "    validation_data = validation_generator\n",
        ")"
      ],
      "metadata": {
        "colab": {
          "base_uri": "https://localhost:8080/"
        },
        "id": "QPYD7LgMYGJD",
        "outputId": "6596dcce-64c3-4bea-fd91-ca38b5139960"
      },
      "execution_count": null,
      "outputs": [
        {
          "output_type": "stream",
          "name": "stdout",
          "text": [
            "Epoch 1/10\n",
            "120/120 [==============================] - 1894s 16s/step - loss: 2.8397 - accuracy: 0.0747 - val_loss: 2.7122 - val_accuracy: 0.1137\n",
            "Epoch 2/10\n",
            "120/120 [==============================] - 71s 590ms/step - loss: 2.5562 - accuracy: 0.1635 - val_loss: 2.3322 - val_accuracy: 0.2342\n",
            "Epoch 3/10\n",
            "120/120 [==============================] - 68s 568ms/step - loss: 2.2612 - accuracy: 0.2419 - val_loss: 2.0806 - val_accuracy: 0.2920\n",
            "Epoch 4/10\n",
            "120/120 [==============================] - 70s 578ms/step - loss: 1.9825 - accuracy: 0.3246 - val_loss: 1.7895 - val_accuracy: 0.3921\n",
            "Epoch 5/10\n",
            "120/120 [==============================] - 68s 562ms/step - loss: 1.7259 - accuracy: 0.4174 - val_loss: 1.6297 - val_accuracy: 0.4196\n",
            "Epoch 6/10\n",
            "120/120 [==============================] - 70s 580ms/step - loss: 1.4949 - accuracy: 0.4828 - val_loss: 1.3183 - val_accuracy: 0.5477\n",
            "Epoch 7/10\n",
            "120/120 [==============================] - 70s 578ms/step - loss: 1.2931 - accuracy: 0.5521 - val_loss: 1.1302 - val_accuracy: 0.6129\n",
            "Epoch 8/10\n",
            "120/120 [==============================] - 68s 564ms/step - loss: 1.1729 - accuracy: 0.5926 - val_loss: 1.1134 - val_accuracy: 0.6063\n",
            "Epoch 9/10\n",
            "120/120 [==============================] - 71s 587ms/step - loss: 1.0434 - accuracy: 0.6351 - val_loss: 1.1440 - val_accuracy: 0.6011\n",
            "Epoch 10/10\n",
            "120/120 [==============================] - 68s 562ms/step - loss: 0.9221 - accuracy: 0.6746 - val_loss: 0.8040 - val_accuracy: 0.7171\n"
          ]
        }
      ]
    },
    {
      "cell_type": "code",
      "source": [
        "pd.DataFrame(history.history)[['accuracy', 'val_accuracy']].plot()\n",
        "plt.title(\"Accuracy\")\n",
        "plt.show()"
      ],
      "metadata": {
        "colab": {
          "base_uri": "https://localhost:8080/",
          "height": 281
        },
        "id": "tEGpOta5wj3u",
        "outputId": "e410ee34-ffb0-44be-b9c3-086a6b6ea9a2"
      },
      "execution_count": null,
      "outputs": [
        {
          "output_type": "display_data",
          "data": {
            "text/plain": [
              "<Figure size 432x288 with 1 Axes>"
            ],
            "image/png": "[encoded data removed]"
          },
          "metadata": {
            "needs_background": "light"
          }
        }
      ]
    },
    {
      "cell_type": "code",
      "source": [
        "pd.DataFrame(history.history)[['loss', 'val_loss']].plot()\n",
        "plt.title(\"Loss\")\n",
        "plt.show()"
      ],
      "metadata": {
        "colab": {
          "base_uri": "https://localhost:8080/",
          "height": 281
        },
        "id": "theRhilvwwYv",
        "outputId": "9f11feea-c48a-42bb-e78b-a45b972c8ce1"
      },
      "execution_count": null,
      "outputs": [
        {
          "output_type": "display_data",
          "data": {
            "text/plain": [
              "<Figure size 432x288 with 1 Axes>"
            ],
            "image/png": "[encoded data removed]"
          },
          "metadata": {
            "needs_background": "light"
          }
        }
      ]
    },
    {
      "cell_type": "markdown",
      "source": [
        "## Conclusión:\n",
        "\n"
      ],
      "metadata": {
        "id": "RSm7BRNHOpmP"
      }
    },
    {
      "cell_type": "markdown",
      "source": [
        "Despues de 10 épocas con una duración de 20 minutos cada una de ellas, podemos observar que tenemos el comportamiento esperado, \n",
        "es decir, tenemos una línea con tendencia a la alta en la asertividad durante las 10 épocas, por otro lado, tenemos una línea con tendencia a la baja\n",
        "para la pérdida. Otro punto que vale la pena mucho resaltar es la cercanía que tienen las líneas del conjunto de entrenamineto y el de validación\n",
        "en ambas gráficas.\n",
        "\n",
        "Aúnque no estén de manera explícita los experimiento que realizamos, notamos que a mayor número de capas de convoluciones las épocas tardaba mucho menos y esto era porque tenían mucho menos parámetros y no por ello eran menos eficientes."
      ],
      "metadata": {
        "id": "CBjOF4sFTGhG"
      }
    },
    {
      "cell_type": "code",
      "source": [
        ""
      ],
      "metadata": {
        "id": "dKNo53UNbwda"
      },
      "execution_count": null,
      "outputs": []
    }
  ]
}