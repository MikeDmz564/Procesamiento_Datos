{
  "cells": [
    {
      "cell_type": "markdown",
      "source": [
        "# Integrantes\n",
        "Diana Claudia Maya Santes\n",
        "\n",
        "Miguel Angel Domínguez Mendoza\n",
        "\n",
        "Cesar Jair Tamez Juárez"
      ],
      "metadata": {
        "id": "TOMU4w-hNT5q"
      },
      "id": "TOMU4w-hNT5q"
    },
    {
      "cell_type": "markdown",
      "source": [
        " Librerias"
      ],
      "metadata": {
        "id": "Bx_dBouMNPz_"
      },
      "id": "Bx_dBouMNPz_"
    },
    {
      "cell_type": "code",
      "execution_count": null,
      "id": "f2655314",
      "metadata": {
        "id": "f2655314"
      },
      "outputs": [],
      "source": [
        "import pandas as pd\n",
        "from keras.models import Sequential\n",
        "from keras.layers import Dense, Dropout, Conv2D, MaxPool2D, Flatten, BatchNormalization, Activation, MaxPooling2D, ZeroPadding2D\n",
        "from keras.utils import np_utils\n",
        "from keras.callbacks import EarlyStopping\n",
        "import numpy as np\n",
        "import os\n",
        "import cv2\n",
        "from skimage import io, color\n",
        "from skimage.color import rgb2gray\n",
        "import math\n",
        "import random\n",
        "import matplotlib.pyplot as plt\n",
        "import matplotlib.image as mpimg\n",
        "from sklearn.metrics import confusion_matrix, f1_score, roc_curve, precision_score, recall_score, accuracy_score, roc_auc_score\n",
        "from sklearn import metrics\n",
        "from tensorflow.keras.models import load_model\n",
        "from PIL import Image, ImageFilter\n",
        "from tensorflow.keras.callbacks import  ReduceLROnPlateau\n",
        "from tensorflow.keras.regularizers import l2\n",
        "\n",
        "from sklearn.preprocessing import LabelEncoder\n",
        "from sklearn.model_selection import train_test_split\n",
        "from sklearn.metrics import classification_report"
      ]
    },
    {
      "cell_type": "markdown",
      "source": [
        "Definimos la ruta en donde se encuentran las imágenes"
      ],
      "metadata": {
        "id": "pgHX8lE6M-fW"
      },
      "id": "pgHX8lE6M-fW"
    },
    {
      "cell_type": "code",
      "execution_count": null,
      "id": "90b1950c",
      "metadata": {
        "id": "90b1950c",
        "outputId": "e891be12-ac82-428f-e124-593b5039dea1"
      },
      "outputs": [
        {
          "data": {
            "text/plain": [
              "1126"
            ]
          },
          "execution_count": 8,
          "metadata": {},
          "output_type": "execute_result"
        }
      ],
      "source": [
        "ubicacion= 'C:/Users/Blue/Documents/MCD/ProcesamientodeDatos/DatosSeñas/Train/A'\n",
        "contenido1 = os.listdir(ubicacion)\n",
        "len(contenido1)"
      ]
    },
    {
      "cell_type": "code",
      "execution_count": null,
      "id": "ee3aaba0",
      "metadata": {
        "id": "ee3aaba0"
      },
      "outputs": [],
      "source": [
        "file_path2= ubicacion + \"/\" + contenido1[0]\n",
        "img_gs = cv2.imread(file_path2)"
      ]
    },
    {
      "cell_type": "code",
      "execution_count": null,
      "id": "34eedb17",
      "metadata": {
        "id": "34eedb17",
        "outputId": "4c3fec4c-84e5-4be5-bb2d-45ddf224b768"
      },
      "outputs": [
        {
          "data": {
            "text/plain": [
              "'10021_A.jpg'"
            ]
          },
          "execution_count": 4,
          "metadata": {},
          "output_type": "execute_result"
        }
      ],
      "source": [
        "contenido1[1]"
      ]
    },
    {
      "cell_type": "markdown",
      "source": [
        "Mostramos una de las imágenes del conjunto"
      ],
      "metadata": {
        "id": "nqvvPXL_N4YS"
      },
      "id": "nqvvPXL_N4YS"
    },
    {
      "cell_type": "code",
      "execution_count": null,
      "id": "389ffabe",
      "metadata": {
        "id": "389ffabe",
        "outputId": "54053226-51f9-492b-bd36-cb3e3f3c640c"
      },
      "outputs": [
        {
          "data": {
            "image/png": "[encoded data removed]",
            "text/plain": [
              "<Figure size 432x288 with 1 Axes>"
            ]
          },
          "metadata": {
            "needs_background": "light"
          },
          "output_type": "display_data"
        }
      ],
      "source": [
        "with Image.open(file_path2) as img:\n",
        "    img.load()\n",
        "\n",
        "type(img)\n",
        "    \n",
        "isinstance(img, Image.Image)\n",
        "\n",
        "img= np.array(img)\n",
        "imgplot = plt.imshow(img)\n",
        "plt.show()"
      ]
    },
    {
      "cell_type": "code",
      "execution_count": null,
      "id": "b94a912b",
      "metadata": {
        "id": "b94a912b",
        "outputId": "f376af15-fe91-42c9-8d69-6622dbf74089"
      },
      "outputs": [
        {
          "data": {
            "image/png": "[encoded data removed]",
            "text/plain": [
              "<Figure size 432x288 with 1 Axes>"
            ]
          },
          "metadata": {
            "needs_background": "light"
          },
          "output_type": "display_data"
        }
      ],
      "source": [
        "imgplot = plt.imshow(edge_enhance)\n",
        "plt.show()"
      ]
    },
    {
      "cell_type": "markdown",
      "source": [
        "Definimos la siguiente función para transformar las imágenes utilizando los siguientes filtros\n",
        "\n",
        "\n",
        "1.   Find Edges\n",
        "2.   Sharpen\n",
        "3.   Smooth\n",
        "4.   Edge Enhance\n",
        "\n",
        "\n",
        "\n"
      ],
      "metadata": {
        "id": "om3SuSHYPQvI"
      },
      "id": "om3SuSHYPQvI"
    },
    {
      "cell_type": "code",
      "execution_count": null,
      "id": "9d61f7a7",
      "metadata": {
        "id": "9d61f7a7"
      },
      "outputs": [],
      "source": [
        "def preproceso(ubicacion):\n",
        "    imagenes=[]\n",
        "    letra= []\n",
        "    contenido1 = os.listdir(ubicacion)\n",
        "    for i in range(len(contenido1)):\n",
        "        file_path1= ubicacion + \"/\" + contenido1[i]\n",
        "        contenido2 = os.listdir(file_path1)\n",
        "        for j in range(len(contenido2)):\n",
        "            file_path2= file_path1 + \"/\" + contenido2[j]\n",
        "            with Image.open(file_path2) as img:\n",
        "                img.load()\n",
        "            type(img)\n",
        "            isinstance(img, Image.Image)\n",
        "            img_gray = img.convert(\"L\")\n",
        "            edges = img_gray.filter(ImageFilter.FIND_EDGES)\n",
        "            sharp_img = img_gray.filter(ImageFilter.SHARPEN)\n",
        "            img_gray_smooth = sharp_img.filter(ImageFilter.SMOOTH)\n",
        "            edge_enhance = img_gray_smooth.filter(ImageFilter.EDGE_ENHANCE)\n",
        "            img_gs= np.array(edge_enhance)\n",
        "            imagenes.append(img_gs)\n",
        "            letra.append(contenido1[i])\n",
        "    return imagenes, letra"
      ]
    },
    {
      "cell_type": "code",
      "execution_count": null,
      "id": "2081d0bc",
      "metadata": {
        "id": "2081d0bc"
      },
      "outputs": [],
      "source": [
        "ubicacion1= 'C:/Users/Blue/Documents/MCD/ProcesamientodeDatos/DatosSeñas/Train'\n",
        "ubicacion2= 'C:/Users/Blue/Documents/MCD/ProcesamientodeDatos/DatosSeñas/Test'\n",
        "\n",
        "Datos= preproceso(ubicacion1)\n",
        "DatosT= preproceso(ubicacion2)"
      ]
    },
    {
      "cell_type": "code",
      "execution_count": null,
      "id": "16de0610",
      "metadata": {
        "id": "16de0610",
        "outputId": "992cc124-9559-4d4c-a1cc-8218a8cf2d5e"
      },
      "outputs": [
        {
          "data": {
            "image/png": "[encoded data removed]",
            "text/plain": [
              "<Figure size 432x288 with 1 Axes>"
            ]
          },
          "metadata": {
            "needs_background": "light"
          },
          "output_type": "display_data"
        }
      ],
      "source": [
        "imgplot = plt.imshow(Datos[0][0])\n",
        "plt.show()"
      ]
    },
    {
      "cell_type": "code",
      "execution_count": null,
      "id": "e8e8511d",
      "metadata": {
        "id": "e8e8511d",
        "outputId": "e7a85172-93d6-4e9f-aeae-33c5ec47a9ad"
      },
      "outputs": [
        {
          "data": {
            "text/plain": [
              "'C'"
            ]
          },
          "execution_count": 15,
          "metadata": {},
          "output_type": "execute_result"
        }
      ],
      "source": [
        "Datos[1][3000]"
      ]
    },
    {
      "cell_type": "markdown",
      "source": [
        "Datos de entreamiento"
      ],
      "metadata": {
        "id": "pjYNd0l1PrXJ"
      },
      "id": "pjYNd0l1PrXJ"
    },
    {
      "cell_type": "code",
      "execution_count": null,
      "id": "d78accb1",
      "metadata": {
        "id": "d78accb1"
      },
      "outputs": [],
      "source": [
        "x= np.array(Datos[0])\n",
        "Yy_train= Datos[1]\n",
        "y=[]\n",
        "for i in range(len(Yy_train)):\n",
        "    if Yy_train[i]=='A':\n",
        "        y.append([0])\n",
        "    elif Yy_train[i]=='B':\n",
        "        y.append([1])\n",
        "    elif Yy_train[i]=='C':\n",
        "        y.append([2])\n",
        "    elif Yy_train[i]=='D':\n",
        "        y.append([3])\n",
        "    elif Yy_train[i]=='E':\n",
        "        y.append([4])\n",
        "    elif Yy_train[i]=='F':\n",
        "        y.append([5])\n",
        "    elif Yy_train[i]=='G':\n",
        "        y.append([6])\n",
        "    elif Yy_train[i]=='H':\n",
        "        y.append([7])\n",
        "    elif Yy_train[i]=='I':\n",
        "        y.append([8])\n",
        "    elif Yy_train[i]=='K':\n",
        "        y.append([9])\n",
        "    elif Yy_train[i]=='L':\n",
        "        y.append([10])\n",
        "    elif Yy_train[i]=='M':\n",
        "        y.append([11])\n",
        "    elif Yy_train[i]=='N':\n",
        "        y.append([12])\n",
        "    elif Yy_train[i]=='O':\n",
        "        y.append([13])\n",
        "    elif Yy_train[i]=='P':\n",
        "        y.append([14])\n",
        "    elif Yy_train[i]=='Q':\n",
        "        y.append([15])\n",
        "    elif Yy_train[i]=='R':\n",
        "        y.append([16])\n",
        "    elif Yy_train[i]=='S':\n",
        "        y.append([17])\n",
        "    elif Yy_train[i]=='T':\n",
        "        y.append([18])\n",
        "    elif Yy_train[i]=='U':\n",
        "        y.append([19])\n",
        "    elif Yy_train[i]=='V':\n",
        "        y.append([20])\n",
        "    elif Yy_train[i]=='W':\n",
        "        y.append([21])\n",
        "    elif Yy_train[i]=='X':\n",
        "        y.append([22])\n",
        "    else:\n",
        "        y.append([23])\n",
        "\n",
        "y_train= y"
      ]
    },
    {
      "cell_type": "markdown",
      "source": [
        "Datos de testeo"
      ],
      "metadata": {
        "id": "Kw6ZUksnP1eF"
      },
      "id": "Kw6ZUksnP1eF"
    },
    {
      "cell_type": "code",
      "execution_count": null,
      "id": "6910cdbd",
      "metadata": {
        "id": "6910cdbd"
      },
      "outputs": [],
      "source": [
        "x_test= np.array(DatosT[0])\n",
        "Yy_train= DatosT[1]\n",
        "y=[]\n",
        "for i in range(len(Yy_train)):\n",
        "    if Yy_train[i]=='A':\n",
        "        y.append([0])\n",
        "    elif Yy_train[i]=='B':\n",
        "        y.append([1])\n",
        "    elif Yy_train[i]=='C':\n",
        "        y.append([2])\n",
        "    elif Yy_train[i]=='D':\n",
        "        y.append([3])\n",
        "    elif Yy_train[i]=='E':\n",
        "        y.append([4])\n",
        "    elif Yy_train[i]=='F':\n",
        "        y.append([5])\n",
        "    elif Yy_train[i]=='G':\n",
        "        y.append([6])\n",
        "    elif Yy_train[i]=='H':\n",
        "        y.append([7])\n",
        "    elif Yy_train[i]=='I':\n",
        "        y.append([8])\n",
        "    elif Yy_train[i]=='K':\n",
        "        y.append([9])\n",
        "    elif Yy_train[i]=='L':\n",
        "        y.append([10])\n",
        "    elif Yy_train[i]=='M':\n",
        "        y.append([11])\n",
        "    elif Yy_train[i]=='N':\n",
        "        y.append([12])\n",
        "    elif Yy_train[i]=='O':\n",
        "        y.append([13])\n",
        "    elif Yy_train[i]=='P':\n",
        "        y.append([14])\n",
        "    elif Yy_train[i]=='Q':\n",
        "        y.append([15])\n",
        "    elif Yy_train[i]=='R':\n",
        "        y.append([16])\n",
        "    elif Yy_train[i]=='S':\n",
        "        y.append([17])\n",
        "    elif Yy_train[i]=='T':\n",
        "        y.append([18])\n",
        "    elif Yy_train[i]=='U':\n",
        "        y.append([19])\n",
        "    elif Yy_train[i]=='V':\n",
        "        y.append([20])\n",
        "    elif Yy_train[i]=='W':\n",
        "        y.append([21])\n",
        "    elif Yy_train[i]=='X':\n",
        "        y.append([22])\n",
        "    else:\n",
        "        y.append([23])\n",
        "\n",
        "y_test = y"
      ]
    },
    {
      "cell_type": "code",
      "execution_count": null,
      "id": "1c3d6a9d",
      "metadata": {
        "id": "1c3d6a9d",
        "outputId": "5710cd10-10eb-4b8b-888a-bfeb5dd7680c"
      },
      "outputs": [
        {
          "data": {
            "text/plain": [
              "(27455, 28, 28)"
            ]
          },
          "execution_count": 18,
          "metadata": {},
          "output_type": "execute_result"
        }
      ],
      "source": [
        "x.shape"
      ]
    },
    {
      "cell_type": "markdown",
      "source": [
        "Utilizamos un aplanamiento de imágenes de dimensión 28x28x1 a una sola dimensión de 784 pixeles"
      ],
      "metadata": {
        "id": "UrPH43TdQtaU"
      },
      "id": "UrPH43TdQtaU"
    },
    {
      "cell_type": "code",
      "execution_count": null,
      "id": "1f8b5874",
      "metadata": {
        "id": "1f8b5874"
      },
      "outputs": [],
      "source": [
        "X_train = x.reshape(x.shape[0], 784)\n",
        "X_test = x_test.reshape(x_test.shape[0], 784)\n",
        "X_train = x.astype('float32')\n",
        "X_test = x_test.astype('float32')"
      ]
    },
    {
      "cell_type": "markdown",
      "source": [
        "Llevamos cada pixel de las imágenes a un rango entre 0 y 1 dividiendo cada uno de ellos entre 255"
      ],
      "metadata": {
        "id": "HArncEl7QANC"
      },
      "id": "HArncEl7QANC"
    },
    {
      "cell_type": "code",
      "source": [
        "X_train /= 255\n",
        "X_test /= 255"
      ],
      "metadata": {
        "id": "T-HQvDlGP-y7"
      },
      "id": "T-HQvDlGP-y7",
      "execution_count": null,
      "outputs": []
    },
    {
      "cell_type": "code",
      "execution_count": null,
      "id": "d33acfda",
      "metadata": {
        "id": "d33acfda",
        "outputId": "62e0ce34-ec15-4d1d-fd80-7e393fc57220"
      },
      "outputs": [
        {
          "data": {
            "text/plain": [
              "(7172, 28, 28)"
            ]
          },
          "execution_count": 20,
          "metadata": {},
          "output_type": "execute_result"
        }
      ],
      "source": [
        "X_test.shape"
      ]
    },
    {
      "cell_type": "code",
      "execution_count": null,
      "id": "cb1fcbca",
      "metadata": {
        "id": "cb1fcbca",
        "outputId": "b2189f81-a6fc-4ccc-8547-530c84073580"
      },
      "outputs": [
        {
          "name": "stdout",
          "output_type": "stream",
          "text": [
            "[0]\n"
          ]
        },
        {
          "data": {
            "image/png": "[encoded data removed]",
            "text/plain": [
              "<Figure size 432x288 with 1 Axes>"
            ]
          },
          "metadata": {
            "needs_background": "light"
          },
          "output_type": "display_data"
        }
      ],
      "source": [
        "xs= 1\n",
        "print(y[xs])\n",
        "imgplot = plt.imshow(X_train[xs])\n",
        "plt.show()"
      ]
    },
    {
      "cell_type": "markdown",
      "source": [
        "Utilizamos one hot encoding para todas nuestras clases"
      ],
      "metadata": {
        "id": "q0-bAXACRD3v"
      },
      "id": "q0-bAXACRD3v"
    },
    {
      "cell_type": "code",
      "execution_count": null,
      "id": "89fde177",
      "metadata": {
        "id": "89fde177",
        "outputId": "35235942-c986-46ce-b9ed-ffac2bde4230"
      },
      "outputs": [
        {
          "name": "stdout",
          "output_type": "stream",
          "text": [
            "Shape before one-hot encoding:  (27455, 1)\n",
            "Shape after one-hot encoding:  (27455, 24)\n"
          ]
        }
      ],
      "source": [
        "y_train= np.array(y_train)\n",
        "y_test= np.array(y_test)\n",
        "n_classes = 24\n",
        "print(\"Shape before one-hot encoding: \", y_train.shape)\n",
        "Y_train = np_utils.to_categorical(y_train, n_classes)\n",
        "Y_test = np_utils.to_categorical(y_test, n_classes)\n",
        "print(\"Shape after one-hot encoding: \", Y_train.shape)"
      ]
    },
    {
      "cell_type": "code",
      "execution_count": null,
      "id": "f84d2228",
      "metadata": {
        "id": "f84d2228",
        "outputId": "6a86af44-cc6d-4c88-953c-67f8df07a572"
      },
      "outputs": [
        {
          "data": {
            "text/plain": [
              "(7172, 24)"
            ]
          },
          "execution_count": 23,
          "metadata": {},
          "output_type": "execute_result"
        }
      ],
      "source": [
        "Y_test.shape"
      ]
    },
    {
      "cell_type": "markdown",
      "source": [
        "Iniciamos el modelo"
      ],
      "metadata": {
        "id": "1bb9e64f"
      },
      "id": "1bb9e64f"
    },
    {
      "cell_type": "markdown",
      "source": [
        "Configuración Tensorboard"
      ],
      "metadata": {
        "id": "jOdpuNtpRa58"
      },
      "id": "jOdpuNtpRa58"
    },
    {
      "cell_type": "code",
      "execution_count": null,
      "id": "1d5d6070",
      "metadata": {
        "id": "1d5d6070"
      },
      "outputs": [],
      "source": [
        "from tensorflow.keras.callbacks import TensorBoard\n",
        "import datetime, os\n",
        "\n",
        "%load_ext tensorboard\n",
        "\n",
        "logdir = os.path.join(\"logs\", datetime.datetime.now().strftime(\"%Y%m%d-%H%M%S\"))\n",
        "tensorboard_callback = TensorBoard(logdir, histogram_freq=1)"
      ]
    },
    {
      "cell_type": "markdown",
      "source": [
        "Definimos la arquitectura de nuestra red convolucional"
      ],
      "metadata": {
        "id": "9KtTamERRdNm"
      },
      "id": "9KtTamERRdNm"
    },
    {
      "cell_type": "code",
      "execution_count": null,
      "id": "7f9efe9b",
      "metadata": {
        "id": "7f9efe9b"
      },
      "outputs": [],
      "source": [
        "#Start model Alexnet\n",
        "model = Sequential()\n",
        "model.add(Conv2D(16, (3, 3), input_shape=(28, 28,1),padding='same'))\n",
        "model.add(BatchNormalization())\n",
        "model.add(Activation('relu'))\n",
        "model.add(MaxPooling2D(pool_size=(2, 2)))\n",
        "\n",
        "# Layer 2\n",
        "model.add(Conv2D(36, (5, 5), padding='same'))\n",
        "model.add(BatchNormalization())\n",
        "model.add(Activation('relu'))\n",
        "model.add(MaxPooling2D(pool_size=(2, 2)))\n",
        "\n",
        "# Layer 3\n",
        "model.add(Conv2D(64, (3, 3), padding='same'))\n",
        "model.add(BatchNormalization())\n",
        "model.add(Activation('relu'))\n",
        "model.add(MaxPooling2D(pool_size=(2, 2)))\n",
        "\n",
        "# Layer 5\n",
        "model.add(ZeroPadding2D((1, 1)))\n",
        "model.add(Conv2D(128, (3, 3), padding='same'))\n",
        "model.add(BatchNormalization())\n",
        "model.add(Activation('relu'))\n",
        "model.add(MaxPooling2D(pool_size=(2, 2)))\n",
        "\n",
        "# Layer 6\n",
        "model.add(Flatten())\n",
        "model.add(Dense(256))\n",
        "model.add(BatchNormalization())\n",
        "model.add(Activation('relu'))\n",
        "model.add(Dropout(0.5))\n",
        "\n",
        "#flatten output of conv\n",
        "model.add(Flatten())\n",
        "\n",
        "model.add(Dense(24))\n",
        "model.add(Activation('softmax'))"
      ]
    },
    {
      "cell_type": "code",
      "source": [
        "model.compile(loss=\"categorical_crossentropy\", optimizer= \"adam\", metrics=[\"acc\"])\n",
        "early_stop= EarlyStopping(monitor= \"val_loss\", patience= 4, restore_best_weights= True)"
      ],
      "metadata": {
        "id": "pbZtzTKnRpCQ"
      },
      "id": "pbZtzTKnRpCQ",
      "execution_count": null,
      "outputs": []
    },
    {
      "cell_type": "markdown",
      "source": [
        "Entrenamos el modelo por 10 épocas"
      ],
      "metadata": {
        "id": "JLxmcYJERqws"
      },
      "id": "JLxmcYJERqws"
    },
    {
      "cell_type": "code",
      "execution_count": null,
      "id": "62226cbd",
      "metadata": {
        "id": "62226cbd",
        "outputId": "cf7d47e7-4046-4f4a-e46c-1f27ce966b6a"
      },
      "outputs": [
        {
          "name": "stdout",
          "output_type": "stream",
          "text": [
            "Epoch 1/10\n",
            "138/138 [==============================] - 70s 486ms/step - loss: 0.5837 - acc: 0.8487 - val_loss: 3.7592 - val_acc: 0.0721\n",
            "Epoch 2/10\n",
            "138/138 [==============================] - 73s 527ms/step - loss: 0.0274 - acc: 0.9987 - val_loss: 2.3815 - val_acc: 0.2817\n",
            "Epoch 3/10\n",
            "138/138 [==============================] - 77s 557ms/step - loss: 0.0089 - acc: 0.9999 - val_loss: 0.3367 - val_acc: 0.9120\n",
            "Epoch 4/10\n",
            "138/138 [==============================] - 78s 568ms/step - loss: 0.0048 - acc: 0.9999 - val_loss: 0.1488 - val_acc: 0.9584\n",
            "Epoch 5/10\n",
            "138/138 [==============================] - 78s 567ms/step - loss: 0.0030 - acc: 1.0000 - val_loss: 0.1231 - val_acc: 0.9643\n",
            "Epoch 6/10\n",
            "138/138 [==============================] - 80s 580ms/step - loss: 0.0022 - acc: 1.0000 - val_loss: 0.1330 - val_acc: 0.9601\n",
            "Epoch 7/10\n",
            "138/138 [==============================] - 82s 593ms/step - loss: 0.0017 - acc: 1.0000 - val_loss: 0.1297 - val_acc: 0.9668\n",
            "Epoch 8/10\n",
            "138/138 [==============================] - 81s 588ms/step - loss: 0.0012 - acc: 1.0000 - val_loss: 0.1232 - val_acc: 0.9643\n",
            "Epoch 9/10\n",
            "138/138 [==============================] - 79s 576ms/step - loss: 9.6696e-04 - acc: 1.0000 - val_loss: 0.1195 - val_acc: 0.9654\n",
            "Epoch 10/10\n",
            "138/138 [==============================] - 79s 570ms/step - loss: 8.5327e-04 - acc: 1.0000 - val_loss: 0.1344 - val_acc: 0.9584\n"
          ]
        }
      ],
      "source": [
        "cnn= model.fit(X_train, Y_train, batch_size=200, epochs=10, validation_data=(X_test, Y_test),callbacks=[early_stop])"
      ]
    },
    {
      "cell_type": "code",
      "execution_count": null,
      "id": "5215208e",
      "metadata": {
        "id": "5215208e",
        "outputId": "6e6d03f1-c885-4068-c04f-76efabbc1a75"
      },
      "outputs": [
        {
          "data": {
            "text/plain": [
              "Text(0.5, 1.0, 'Comportamiento de la perdida')"
            ]
          },
          "execution_count": 34,
          "metadata": {},
          "output_type": "execute_result"
        },
        {
          "data": {
            "image/png": "[encoded data removed]",
            "text/plain": [
              "<Figure size 432x288 with 1 Axes>"
            ]
          },
          "metadata": {
            "needs_background": "light"
          },
          "output_type": "display_data"
        }
      ],
      "source": [
        "plt.subplot(1,2,1)\n",
        "plt.plot(cnn.history['loss'])\n",
        "plt.plot(cnn.history['val_loss'])\n",
        "plt.ylabel(\"Perdida\")\n",
        "plt.xlabel(\"Epoch\")\n",
        "plt.title(\"Comportamiento de la perdida\")"
      ]
    },
    {
      "cell_type": "code",
      "execution_count": null,
      "id": "b7e88365",
      "metadata": {
        "id": "b7e88365",
        "outputId": "39b03a32-eb07-44a5-a82e-a5b434850a92"
      },
      "outputs": [
        {
          "data": {
            "text/plain": [
              "Text(0.5, 1.0, 'Comportamiento de la precisión')"
            ]
          },
          "execution_count": 36,
          "metadata": {},
          "output_type": "execute_result"
        },
        {
          "data": {
            "image/png": "[encoded data removed]",
            "text/plain": [
              "<Figure size 432x288 with 1 Axes>"
            ]
          },
          "metadata": {
            "needs_background": "light"
          },
          "output_type": "display_data"
        }
      ],
      "source": [
        "plt.subplot(1,2,1)\n",
        "plt.plot(cnn.history['val_acc'])\n",
        "plt.plot(cnn.history['acc'])\n",
        "plt.ylabel(\"Precisión\")\n",
        "plt.xlabel(\"Epoch\")\n",
        "plt.title(\"Comportamiento de la precisión\")"
      ]
    },
    {
      "cell_type": "code",
      "execution_count": null,
      "id": "ee4f4520",
      "metadata": {
        "id": "ee4f4520",
        "outputId": "7e3287f9-46c5-4be8-d401-1660fca3bf92"
      },
      "outputs": [
        {
          "name": "stdout",
          "output_type": "stream",
          "text": [
            "Matriz de confusion:\n"
          ]
        },
        {
          "data": {
            "image/png": "[encoded data removed]",
            "text/plain": [
              "<Figure size 1080x1080 with 1 Axes>"
            ]
          },
          "metadata": {
            "needs_background": "light"
          },
          "output_type": "display_data"
        }
      ],
      "source": [
        "from numpy import argmax\n",
        "predictions= model.predict(X_test)\n",
        "y_pred=[]\n",
        "for i in range(len(predictions)):\n",
        "    y_pred.append(argmax(predictions[i]))\n",
        "\n",
        "y_ref= np.argmax(Y_test, axis= 1)\n",
        "print('Matriz de confusion:')\n",
        "cm= confusion_matrix(y_ref,  y_pred)\n",
        "fig, ax= plt.subplots(figsize=(15,15))\n",
        "ax.matshow(cm)\n",
        "plt.title('Matriz de Confusión', fontsize= 20)\n",
        "plt.ylabel('Etiqueta verdadera', fontsize = 15)\n",
        "plt.xlabel('Etiquieta predicha', fontsize= 15)\n",
        "for(i,j), z in np.ndenumerate(cm):\n",
        "  ax.text(j, i, '{:0.1f}'.format(z), ha='center', va='center')"
      ]
    },
    {
      "cell_type": "markdown",
      "source": [
        "## Conclusiones\n",
        "\n",
        "La red convolucional tiene un muy buen desempeño y podemos verlo en las dos gráficas (asertividad y pérdida), en donde ambas lineas tienen el comportamiento esperado, es decir, las líneas del conjunto de validación y entrenamiento están muy cercanas y la de asertividad por su lado tiende a uno y la pérdida al cero.Ahora volteando a ver la mátriz de confusión podemos observar que efectivamente tiene un muy buen desempeño, solo en un par de letras tiene algunos fallos porque son muy pareceidas las señas, pero es incluso algo que podría pasarnos a nosotros como humanos."
      ],
      "metadata": {
        "id": "3953b432"
      },
      "id": "3953b432"
    },
    {
      "cell_type": "code",
      "source": [
        ""
      ],
      "metadata": {
        "id": "I__GYMl8R1fi"
      },
      "id": "I__GYMl8R1fi",
      "execution_count": null,
      "outputs": []
    }
  ],
  "metadata": {
    "kernelspec": {
      "display_name": "Python 3 (ipykernel)",
      "language": "python",
      "name": "python3"
    },
    "language_info": {
      "codemirror_mode": {
        "name": "ipython",
        "version": 3
      },
      "file_extension": ".py",
      "mimetype": "text/x-python",
      "name": "python",
      "nbconvert_exporter": "python",
      "pygments_lexer": "ipython3",
      "version": "3.9.7"
    },
    "colab": {
      "name": "Tarea 6- Red Convolucional.ipynb",
      "provenance": []
    }
  },
  "nbformat": 4,
  "nbformat_minor": 5
}